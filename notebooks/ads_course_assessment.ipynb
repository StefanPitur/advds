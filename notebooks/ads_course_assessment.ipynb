{
 "cells": [
  {
   "cell_type": "markdown",
   "id": "0b1e4a6f",
   "metadata": {
    "id": "0b1e4a6f"
   },
   "source": [
    "# Assessment for Advanced Data Science\n",
    "\n",
    "## Christian Cabrera, Radzim Sendyka, Carl Henrik Ek and Neil D. Lawrence\n",
    "\n",
    "### 6th November 2023\n",
    "\n"
   ]
  },
  {
   "cell_type": "markdown",
   "id": "d7856d1b",
   "metadata": {
    "id": "d7856d1b"
   },
   "source": [
    "Welcome to the course assessment for the Advanced Data Science unit. In this assessment you will build a prediction system for UK house prices.\n",
    "\n",
    "Your prediction system will be based on data from the UK Price Paid data available [here](https://www.gov.uk/government/statistical-data-sets/price-paid-data-downloads). By combining this data with the UK Office for National Statistics data on the latitude/longitude of postcodes (available [here](https://www.getthedata.com/open-postcode-geo)) you will have a record of house prices and their approximate latitude/longitude. Due to the size of these data you will use a relational database to handle them.  \n",
    "\n",
    "To make predictions of the house price you will augment your data with information obtained from Open Street Map: an open license source of mapping information. You will use the techniques you have learnt in the course to indentify and incorporate useful features for house price prediction.\n",
    "\n",
    "\n",
    "\n",
    "Alongside your implementation you will provide a short repository overview describing how you have implemented the different parts of the project and where you have placed those parts in your code repository. You will submit your code alongside a version of this notebook that will allow your examiner to understand and reconstruct the thinking behind your analysis. This notebook is structured to help you in creating that description and allow you to understand how we will allocate the marks. You should make use of the Fynesse framework (<https://github.com/lawrennd/fynesse_template>) for structuring your code.\n",
    "\n",
    "Remember the notebook you create should *tell a story*, any code that is not critical to that story can safely be placed into the associated analysis library and imported for use (structured as given in the Fynesse template)\n",
    "\n",
    "The maximum total mark for this assessment is 20. That mark is split into Three Questions below, each worth 5 marks each. Then a final 5 marks will be given for the quality, structure and reusability of the code and analysis you produce giving 20 marks in total. At the end, we would like to know your experience using LLMs in this assignment.\n",
    "\n",
    "### Important Note:\n",
    "\n",
    "*Some tasks in this assignment require you to develop skills for searching for multiple solutions and trying different things. This environment recreates industrial data science and software engineering problems. There is no one right answer.*\n"
   ]
  },
  {
   "cell_type": "markdown",
   "id": "bb7e7c53",
   "metadata": {
    "id": "bb7e7c53"
   },
   "source": [
    "### Useful Links\n",
    "\n",
    "You may find some of the following links useful when building your system.\n",
    "\n",
    "University instuctions on Security and Privacy with AWS.\n",
    "\n",
    "https://help.uis.cam.ac.uk/service/network-services/hosting-services/AWS/aws-security-privacy\n",
    "\n",
    "Security Rules in AWS\n",
    "\n",
    "https://docs.aws.amazon.com/AmazonRDS/latest/UserGuide/USER_VPC.Scenarios.html#USER_VPC.Scenario4"
   ]
  },
  {
   "cell_type": "markdown",
   "id": "9d3ee6ce",
   "metadata": {
    "id": "9d3ee6ce"
   },
   "source": [
    "### Installing Your Library\n",
    "\n",
    "One artefact to be included in your submission is a python library structured according to the \"Access, Assess, Address\" standard for data science solutions. You will submit this library alongside your code. Use the cell below to perform the necessary installation instructions for your library.\n",
    "\n",
    "You should base your module on the template repository given by the Fynesse template repository. That should make it `pip` installable as below.\n",
    "\n"
   ]
  },
  {
   "cell_type": "code",
   "execution_count": null,
   "id": "13f71cb7",
   "metadata": {
    "id": "13f71cb7"
   },
   "outputs": [],
   "source": [
    "# Install your library here, for example the fynesse template\n",
    "# is set up to be pip installable\n",
    "\n",
    "# TODO: use this when done implementing the functionalities of the library\n",
    "# %pip install git+https://github.com/lawrennd/fynesse_template.git"
   ]
  },
  {
   "cell_type": "markdown",
   "id": "c2fafca0",
   "metadata": {
    "id": "c2fafca0"
   },
   "source": [
    "Your own library should be installed in the line above, then you can import it as usual (where you can either replace `fynesse` with the name you've given your analysis module or you can leave the name as `fynesse` as you prefer)."
   ]
  },
  {
   "cell_type": "code",
   "execution_count": null,
   "id": "db162b53",
   "metadata": {
    "id": "db162b53"
   },
   "outputs": [],
   "source": [
    "import sys\n",
    "\n",
    "import pandas as pd\n",
    "\n",
    "sys.path.append(\"~/Work/part2/ads/advds/fynesse\")\n",
    "from fynesse.access import *"
   ]
  },
  {
   "cell_type": "markdown",
   "id": "26533cf6",
   "metadata": {
    "id": "26533cf6"
   },
   "source": [
    "## Question 1. Accessing a Database of House Prices, Latitudes and Longitudes\n",
    "\n",
    "The UK price paid data for housing dates back to 1995 and contains millions of transactions. The size of the data makes it unwieldy to manipulate directly in python frameworks such as `pandas`. As a result we will host the data in a *relational database*.\n",
    "\n",
    "Using the following ideas.\n",
    "\n",
    "1. A cloud hosted database (such as MariaDB hosted on the AWS RDS service).\n",
    "2. The SQL language wrapped in appropriately structured python code.\n",
    "3. Joining of two databases.\n",
    "\n",
    "You will construct a database containing tables that contain all house prices, latitudes and longitudes from the UK house price data base since 1995.\n",
    "\n",
    "You will likely find the following resources helpful.\n",
    "\n",
    "1. Lecture 1, 2 and 3.\n",
    "2. Lab class 1 and 2.\n",
    "3. The UK Price Paid data for houses: <https://www.gov.uk/government/statistical-data-sets/price-paid-data-downloads>\n",
    "4. The UK ONS Data base of postcode latitude and longitudes:  <https://www.getthedata.com/open-postcode-geo>\n",
    "\n",
    "Below we provide codeboxes and hints to help you develop your answer.\n",
    "\n",
    "### Important Notes:\n",
    "\n",
    "*The main knowledge you need to do a first pass through this question will have been taught by the end of Lab Session 2 (31st October 2023). You will likely want to review your answer as part of **refactoring** your code  and analysis pipeline shortly before hand in.*\n",
    "\n",
    "*We recommend doing Question 1 as early as possible to avoid being blocked from important work given that uploading the data can take long.*\n",
    "\n",
    "*If you encounter problems with the online notebook (e.g., interrupted connections with the AWS server), you can use a local IDE to work in your machine.*\n",
    "\n",
    "*5 Marks*"
   ]
  },
  {
   "cell_type": "code",
   "execution_count": 96,
   "outputs": [],
   "source": [
    "import pymysql\n",
    "import osmnx as ox\n",
    "import pandas as pd\n",
    "\n",
    "config = {\n",
    "    \"default_tags\": {\n",
    "        \"amenity\": [\"school\", \"restaurant\"],\n",
    "        \"leisure\": True,\n",
    "        \"healthcare\":True,\n",
    "        \"shop\": True,\n",
    "        \"public_transport\": True\n",
    "    },\n",
    "    \"default_tags_list\": [\"school\", \"restaurant\", \"leisure\", \"healthcare\", \"shop\", \"public_transport\"],\n",
    "    \"default_bounding_box\": 0.1,\n",
    "    \"default_category_distance_boundaries\": {\n",
    "        \"walking_distance\": 0.5,\n",
    "        \"cycling_distance\": 5,\n",
    "        \"driving_distance\": 10\n",
    "    }\n",
    "}\n",
    "\n",
    "class PropertyPricesDbConnector:\n",
    "    _conn = None\n",
    "\n",
    "    def __init__(self, host, port, username, password):\n",
    "        self._host = host\n",
    "        self._port = port\n",
    "        self._username = username\n",
    "        self._password = password\n",
    "        self._database = \"property_prices\"\n",
    "\n",
    "        try:\n",
    "            self._create_database()\n",
    "            self._create_connection_to_database()\n",
    "        except DatabaseCreationException as database_creation_exception:\n",
    "            raise Exception(database_creation_exception)\n",
    "        except DatabaseConnectionException as database_connection_exception:\n",
    "            raise Exception(database_connection_exception)\n",
    "\n",
    "    def _create_database(self):\n",
    "        try:\n",
    "            conn = pymysql.connect(\n",
    "                host=self._host,\n",
    "                port=self._port,\n",
    "                user=self._username,\n",
    "                password=self._password\n",
    "            )\n",
    "            conn.cursor().execute(f\"CREATE DATABASE IF NOT EXISTS {self._database}\")\n",
    "        except Exception as e:\n",
    "            raise DatabaseCreationException(f\"Could not create a new database at the give server! - {e}\")\n",
    "\n",
    "    def _create_connection_to_database(self):\n",
    "        \"\"\"\n",
    "            Create connection to the MariaDB instance on AWS by using the host url, port, credentials and database name.\n",
    "        \"\"\"\n",
    "        try:\n",
    "            self._conn = pymysql.connect(\n",
    "                host=self._host,\n",
    "                port=self._port,\n",
    "                user=self._username,\n",
    "                password=self._password,\n",
    "                database=self._database,\n",
    "                local_infile=1\n",
    "            )\n",
    "        except Exception as e:\n",
    "            raise DatabaseConnectionException(f\"Could not establish connection to the database server! - {e}\")\n",
    "\n",
    "    def get_conn(self):\n",
    "        return self._conn\n",
    "\n",
    "\n",
    "\n",
    "class DatabaseCreationException(Exception):\n",
    "    def __init__(self, message):\n",
    "        super().__init__(message)\n",
    "\n",
    "\n",
    "class DatabaseConnectionException(Exception):\n",
    "    def __init__(self, message):\n",
    "        super().__init__(message)\n",
    "\n",
    "\n",
    "def create_property_prices_database(host, port, username, password):\n",
    "    conn = pymysql.connect(\n",
    "        host=host,\n",
    "        port=port,\n",
    "        user=username,\n",
    "        password=password\n",
    "    )\n",
    "    conn.cursor().execute(\"CREATE DATABASE IF NOT EXISTS `property_prices`\")\n",
    "\n",
    "\n",
    "def create_property_prices_db_connection(host, port, username, password):\n",
    "    conn = pymysql.connect(\n",
    "        host=host,\n",
    "        port=port,\n",
    "        user=username,\n",
    "        password=password,\n",
    "        database=\"property_prices\",\n",
    "        local_infile=1\n",
    "    )\n",
    "    return conn\n",
    "\n",
    "\n",
    "def create_and_populate_pp_data_table(conn):\n",
    "    create_pp_data_table(conn)\n",
    "    populate_pp_data_table(conn)\n",
    "\n",
    "\n",
    "def create_pp_data_table(conn):\n",
    "    conn.cursor().execute(\"\"\"\n",
    "        -- Table structure for table `pp_data`\n",
    "        DROP TABLE IF EXISTS `pp_data`;\n",
    "    \"\"\")\n",
    "    conn.cursor().execute(\"\"\"\n",
    "        CREATE TABLE IF NOT EXISTS `pp_data` (\n",
    "          `transaction_unique_identifier` tinytext COLLATE utf8_bin NOT NULL,\n",
    "          `price` int(10) unsigned NOT NULL,\n",
    "          `date_of_transfer` date NOT NULL,\n",
    "          `postcode` varchar(8) COLLATE utf8_bin NOT NULL,\n",
    "          `property_type` varchar(1) COLLATE utf8_bin NOT NULL,\n",
    "          `new_build_flag` varchar(1) COLLATE utf8_bin NOT NULL,\n",
    "          `tenure_type` varchar(1) COLLATE utf8_bin NOT NULL,\n",
    "          `primary_addressable_object_name` tinytext COLLATE utf8_bin NOT NULL,\n",
    "          `secondary_addressable_object_name` tinytext COLLATE utf8_bin NOT NULL,\n",
    "          `street` tinytext COLLATE utf8_bin NOT NULL,\n",
    "          `locality` tinytext COLLATE utf8_bin NOT NULL,\n",
    "          `town_city` tinytext COLLATE utf8_bin NOT NULL,\n",
    "          `district` tinytext COLLATE utf8_bin NOT NULL,\n",
    "          `county` tinytext COLLATE utf8_bin NOT NULL,\n",
    "          `ppd_category_type` varchar(2) COLLATE utf8_bin NOT NULL,\n",
    "          `record_status` varchar(2) COLLATE utf8_bin NOT NULL,\n",
    "          `db_id` bigint(20) unsigned NOT NULL\n",
    "        ) DEFAULT CHARSET=utf8 COLLATE=utf8_bin AUTO_INCREMENT=1 ;\n",
    "    \"\"\")\n",
    "    conn.cursor().execute(\"\"\"\n",
    "        -- Primary key for table `pp_data` \n",
    "        ALTER TABLE `pp_data`\n",
    "        ADD PRIMARY KEY (`db_id`);\n",
    "    \"\"\")\n",
    "    conn.cursor().execute(\"\"\"\n",
    "        ALTER TABLE `pp_data`\n",
    "        MODIFY db_id bigint(20) unsigned NOT NULL AUTO_INCREMENT, AUTO_INCREMENT=1;\n",
    "    \"\"\")\n",
    "    conn.commit()\n",
    "\n",
    "\n",
    "def populate_pp_data_table(conn):\n",
    "    conn.cursor().execute(\"\"\"\n",
    "        LOAD DATA LOCAL INFILE 'pp-complete.csv' INTO TABLE pp_data\n",
    "        FIELDS TERMINATED BY ',' OPTIONALLY ENCLOSED by '\"'\n",
    "        LINES STARTING BY '' TERMINATED BY '\\n';\n",
    "    \"\"\")\n",
    "    conn.commit()\n",
    "\n",
    "\n",
    "def create_column_index_on_pp_data_table(conn, column_name):\n",
    "    index_column_name = \"pp.\" + column_name\n",
    "\n",
    "    conn.cursor().execute(f\"\"\"\n",
    "        DROP INDEX IF EXISTS `{index_column_name}` ON `pp_data`\n",
    "    \"\"\")\n",
    "    conn.cursor().execute(f\"\"\"\n",
    "        CREATE INDEX IF NOT EXISTS `{index_column_name}` USING HASH\n",
    "        ON `pp_data` ({column_name})\n",
    "    \"\"\")\n",
    "    conn.commit()\n",
    "\n",
    "# POSTCODE DATA TABLE\n",
    "\n",
    "def create_and_populate_postcode_data_table(conn):\n",
    "    create_postcode_data_table(conn)\n",
    "    populate_postcode_data_table(conn)\n",
    "\n",
    "\n",
    "def create_postcode_data_table(conn):\n",
    "    conn.cursor().execute(\"\"\"\n",
    "        -- Table structure for table `postcode_data`\n",
    "        DROP TABLE IF EXISTS `postcode_data`;\n",
    "    \"\"\")\n",
    "    conn.cursor().execute(\"\"\"\n",
    "        CREATE TABLE IF NOT EXISTS `postcode_data` (\n",
    "          `postcode` varchar(8) COLLATE utf8_bin NOT NULL,\n",
    "          `status` enum('live','terminated') NOT NULL,\n",
    "          `usertype` enum('small', 'large') NOT NULL,\n",
    "          `easting` int unsigned,\n",
    "          `northing` int unsigned,\n",
    "          `positional_quality_indicator` int NOT NULL,\n",
    "          `country` enum('England', 'Wales', 'Scotland', 'Northern Ireland', 'Channel Islands', 'Isle of Man') NOT NULL,\n",
    "          `latitude` decimal(11,8) NOT NULL,\n",
    "          `longitude` decimal(10,8) NOT NULL,\n",
    "          `postcode_no_space` tinytext COLLATE utf8_bin NOT NULL,\n",
    "          `postcode_fixed_width_seven` varchar(7) COLLATE utf8_bin NOT NULL,\n",
    "          `postcode_fixed_width_eight` varchar(8) COLLATE utf8_bin NOT NULL,\n",
    "          `postcode_area` varchar(2) COLLATE utf8_bin NOT NULL,\n",
    "          `postcode_district` varchar(4) COLLATE utf8_bin NOT NULL,\n",
    "          `postcode_sector` varchar(6) COLLATE utf8_bin NOT NULL,\n",
    "          `outcode` varchar(4) COLLATE utf8_bin NOT NULL,\n",
    "          `incode` varchar(3)  COLLATE utf8_bin NOT NULL,\n",
    "          `db_id` bigint(20) unsigned NOT NULL\n",
    "        ) DEFAULT CHARSET=utf8 COLLATE=utf8_bin;\n",
    "    \"\"\")\n",
    "    conn.cursor().execute(\"\"\"\n",
    "        ALTER TABLE `postcode_data`\n",
    "        ADD PRIMARY KEY (`db_id`);\n",
    "    \"\"\")\n",
    "    conn.cursor().execute(\"\"\"\n",
    "        ALTER TABLE `postcode_data`\n",
    "        MODIFY `db_id` bigint(20) unsigned NOT NULL AUTO_INCREMENT,AUTO_INCREMENT=1;\n",
    "    \"\"\")\n",
    "    conn.commit()\n",
    "\n",
    "\n",
    "def populate_postcode_data_table(conn):\n",
    "    conn.cursor().execute(\"\"\"\n",
    "        LOAD DATA LOCAL INFILE 'open_postcode_geo.csv' INTO TABLE `postcode_data`\n",
    "        FIELDS TERMINATED BY ',' OPTIONALLY ENCLOSED by '\"'\n",
    "        LINES STARTING BY '' TERMINATED BY '\\n';\n",
    "    \"\"\")\n",
    "    conn.commit()\n",
    "\n",
    "\n",
    "def create_column_index_on_postcode_data_table(conn, column_name):\n",
    "    index_column_name = \"pd.\" + column_name\n",
    "\n",
    "    conn.cursor().execute(f\"\"\"\n",
    "        DROP INDEX IF EXISTS `{index_column_name}` ON `postcode_data`\n",
    "    \"\"\")\n",
    "    conn.cursor().execute(f\"\"\"\n",
    "        CREATE INDEX IF NOT EXISTS `{index_column_name}` USING HASH\n",
    "        ON `postcode_data` ({column_name})\n",
    "    \"\"\")\n",
    "    conn.commit()\n",
    "\n",
    "\n",
    "\n",
    "def create_and_populate_prices_coordinates_data_table(conn):\n",
    "    create_prices_coordinates_data_table(conn)\n",
    "    populate_prices_coordinates_data_table(conn)\n",
    "\n",
    "\n",
    "def create_prices_coordinates_data_table(conn):\n",
    "    conn.cursor().execute(\"\"\"\n",
    "        DROP TABLE IF EXISTS `prices_coordinates_data`;\n",
    "    \"\"\")\n",
    "    conn.cursor().execute(\"\"\"\n",
    "        CREATE TABLE IF NOT EXISTS `prices_coordinates_data` (\n",
    "          `price` int(10) unsigned NOT NULL,\n",
    "          `date_of_transfer` date NOT NULL,\n",
    "          `postcode` varchar(8) COLLATE utf8_bin NOT NULL,\n",
    "          `property_type` varchar(1) COLLATE utf8_bin NOT NULL,\n",
    "          `new_build_flag` varchar(1) COLLATE utf8_bin NOT NULL,\n",
    "          `tenure_type` varchar(1) COLLATE utf8_bin NOT NULL,\n",
    "          `locality` tinytext COLLATE utf8_bin NOT NULL,\n",
    "          `town_city` tinytext COLLATE utf8_bin NOT NULL,\n",
    "          `district` tinytext COLLATE utf8_bin NOT NULL,\n",
    "          `county` tinytext COLLATE utf8_bin NOT NULL,\n",
    "          `country` enum('England', 'Wales', 'Scotland', 'Northern Ireland', 'Channel Islands', 'Isle of Man') NOT NULL,\n",
    "          `latitude` decimal(11,8) NOT NULL,\n",
    "          `longitude` decimal(10,8) NOT NULL,\n",
    "          `db_id` bigint(20) unsigned NOT NULL\n",
    "        ) DEFAULT CHARSET=utf8 COLLATE=utf8_bin AUTO_INCREMENT=1 ;\n",
    "    \"\"\")\n",
    "    conn.cursor().execute(\"\"\"\n",
    "        ALTER TABLE `prices_coordinates_data`\n",
    "        ADD PRIMARY KEY (`db_id`);\n",
    "    \"\"\")\n",
    "    conn.cursor().execute(\"\"\"\n",
    "        ALTER TABLE `prices_coordinates_data`\n",
    "        MODIFY `db_id` bigint(20) unsigned NOT NULL AUTO_INCREMENT,AUTO_INCREMENT=1;\n",
    "    \"\"\")\n",
    "    conn.commit()\n",
    "\n",
    "\n",
    "def populate_prices_coordinates_data_table(conn):\n",
    "    conn.cursor().execute(\"\"\"\n",
    "        INSERT INTO `prices_coordinates_data` (\n",
    "            `price`,\n",
    "            `date_of_transfer`,\n",
    "            `postcode`,\n",
    "            `property_type`,\n",
    "            `new_build_flag`,\n",
    "            `tenure_type`,\n",
    "            `locality`,\n",
    "            `town_city`,\n",
    "            `district`,\n",
    "            `county`,\n",
    "            `country`,\n",
    "            `latitude`,\n",
    "            `longitude`\n",
    "        )\n",
    "        SELECT pp.price, pp.date_of_transfer, pp.postcode, pp.property_type, pp.new_build_flag, pp.tenure_type, pp.locality, pp.town_city, pp.district, pp.county, pd.country, pd.latitude, pd.longitude\n",
    "        FROM\n",
    "            (\n",
    "                SELECT price, date_of_transfer, postcode, property_type, new_build_flag, tenure_type, locality, town_city, district, county\n",
    "                FROM pp_data \n",
    "            ) pp\n",
    "        INNER JOIN\n",
    "            (\n",
    "                SELECT postcode, country, latitude, longitude\n",
    "                FROM postcode_data\n",
    "            ) pd\n",
    "        ON pp.postcode = pd.postcode\n",
    "    \"\"\")\n",
    "    conn.commit()\n",
    "\n",
    "\n",
    "def create_column_index_on_prices_coordinates_data_table(conn, column_name):\n",
    "    index_column_name = \"pcd.\" + column_name\n",
    "    conn.cursor().execute(f\"\"\"\n",
    "        DROP INDEX IF EXISTS `{index_column_name}` ON `prices_coordinates_data`\n",
    "    \"\"\")\n",
    "    conn.cursor().execute(f\"\"\"\n",
    "        CREATE INDEX IF NOT EXISTS `{index_column_name}` USING HASH\n",
    "        ON `prices_coordinates_data` ({column_name})\n",
    "    \"\"\")\n",
    "    conn.commit()\n",
    "    \n",
    "\n",
    "def get_number_of_rows(conn):\n",
    "    cur = conn.cursor()\n",
    "    cur.execute(\"\"\"\n",
    "       SELECT COUNT(*) AS row_count\n",
    "       FROM `prices_coordinates_data`\n",
    "    \"\"\")\n",
    "    return cur.fetchall()\n",
    "\n",
    "\n",
    "def get_prices_coordinates_for_coords_and_timedelta(conn, bounding_box, min_date, max_date, property_type):\n",
    "    north, south, west, east = bounding_box\n",
    "    cur = conn.cursor()\n",
    "    cur.execute(f\"\"\"\n",
    "        SELECT pp.price, pp.date_of_transfer, pp.postcode, pp.property_type, pp.new_build_flag, pp.tenure_type, pp.locality, pp.town_city, pp.district, pp.county, pd.country, pd.latitude, pd.longitude\n",
    "        FROM\n",
    "            (\n",
    "                SELECT price, date_of_transfer, postcode, property_type, new_build_flag, tenure_type, locality, town_city, district, county \n",
    "                FROM pp_data\n",
    "                WHERE (date_of_transfer BETWEEN '{min_date}' AND '{max_date}') AND property_type = '{property_type}' \n",
    "            ) pp\n",
    "        INNER JOIN\n",
    "            (\n",
    "                SELECT postcode, country, latitude, longitude\n",
    "                FROM postcode_data\n",
    "                WHERE (latitude BETWEEN {south} AND {north}) AND (longitude BETWEEN {west} AND {east})\n",
    "            ) pd\n",
    "        ON pp.postcode = pd.postcode\n",
    "    \"\"\")\n",
    "    return cur.fetchall()\n",
    "\n",
    "\n",
    "# OpenStreetMap\n",
    "def compute_bounding_box_cardinals(latitude, longitude, box_width=config[\"default_bounding_box\"], box_height=config[\"default_bounding_box\"]):\n",
    "    north = latitude + box_height / 2\n",
    "    south = latitude - box_height / 2\n",
    "    west = longitude - box_width / 2\n",
    "    east = longitude + box_width / 2\n",
    "\n",
    "    return north, south, west, east\n",
    "\n",
    "\n",
    "def retrieve_pois_from_bbox_given_tags(bounding_box, tags=config[\"default_tags\"]):\n",
    "    north, south, west, east = bounding_box\n",
    "    return ox.features_from_bbox(north, south, east, west, tags)\n",
    "    "
   ],
   "metadata": {
    "collapsed": false,
    "ExecuteTime": {
     "end_time": "2023-11-28T02:48:01.817724Z",
     "start_time": "2023-11-28T02:48:01.811335Z"
    }
   },
   "id": "da76645073d14c9c"
  },
  {
   "cell_type": "markdown",
   "id": "fd689312",
   "metadata": {
    "id": "fd689312"
   },
   "source": [
    "### Task A\n",
    "\n",
    "Set up the database. You'll need to set up a database on AWS. You were guided in how to do this in the lab sessions. You should be able to use the same database instance you created in the lab, or you can delete that and start with a fresh instance. You'll remember from the lab that the database requires credentials (username, password) to access. It's good practice to store those credentials *outside* the notebook so you don't accidentally share them by e.g. checking code into a repository.\n",
    "  \n",
    "Call the database you use for this assessment `property_prices`.\n",
    "  "
   ]
  },
  {
   "cell_type": "code",
   "execution_count": null,
   "id": "feaf09b9",
   "metadata": {
    "id": "feaf09b9"
   },
   "outputs": [],
   "source": [
    "# Write code for requesting and storing credentials (username, password) here.\n",
    "import yaml\n",
    "from ipywidgets import interact_manual, Text, Password\n",
    "\n",
    "@interact_manual(username=Text(description=\"Username:\"), password=Password(description=\"Password:\"))\n",
    "def store_credentials(username, password):\n",
    "    with open(\"credentials.yaml\", \"w\") as file:\n",
    "        credentials_dict = {'username': username,\n",
    "                            'password': password}\n",
    "        yaml.dump(credentials_dict, file)"
   ]
  },
  {
   "cell_type": "code",
   "execution_count": 66,
   "id": "036c419d",
   "metadata": {
    "id": "036c419d",
    "ExecuteTime": {
     "end_time": "2023-11-28T02:12:38.860854Z",
     "start_time": "2023-11-28T02:12:38.625388Z"
    }
   },
   "outputs": [],
   "source": [
    "import yaml\n",
    "# Write any other setup code you need for setting up database access here.\n",
    "\n",
    "database_details = {\n",
    "    \"url\": \"database-ads-sap86.cgrre17yxw11.eu-west-2.rds.amazonaws.com\",\n",
    "    \"port\": 3306\n",
    "}\n",
    "\n",
    "with open(\"credentials.yaml\") as f:\n",
    "    credentials = yaml.safe_load(f)\n",
    "\n",
    "username = credentials[\"username\"]\n",
    "password = credentials[\"password\"]\n",
    "host = database_details[\"url\"]\n",
    "port = database_details[\"port\"]\n",
    "\n",
    "create_property_prices_database(host, port, username, password)\n",
    "conn = create_property_prices_db_connection(host, port, username, password)"
   ]
  },
  {
   "cell_type": "markdown",
   "id": "33c7237f",
   "metadata": {
    "id": "33c7237f"
   },
   "source": [
    "### Task B\n",
    "\n",
    "Create a database table called `pp_data` containing all the UK Price Paid data from the [gov.uk site](https://www.gov.uk/government/statistical-data-sets/price-paid-data-downloads). You'll need to prepare a new table to receive the data and upload the UK Price Paid data to your database instance. The total data is over 3 gigabytes in size. We suggest that rather than downloading the full data in CSV format, you use the fact that they have split the data into years and into different parts per year. For example, the first part of the data for 2018 is stored at <http://prod.publicdata.landregistry.gov.uk.s3-website-eu-west-1.amazonaws.com/pp-2018-part1.csv>. Each of these files is less than 100MB and can be downloaded very quickly to local disk, then uploaded using\n",
    "\n",
    "\n",
    "```\n",
    "LOAD DATA LOCAL INFILE 'filename' INTO TABLE `table_name`\n",
    "FIELDS TERMINATED BY ',' OPTIONALLY ENCLOSED by '\"'\n",
    "LINES STARTING BY '' TERMINATED BY '\\n';\n",
    "```\n",
    "*Note* this command should be wrapped and placed in an appropriately structured python module.\n",
    "\n",
    "Each 'data part' should be downloadable from the `gov.uk` site. It should take around 5 minutes to download the whole dataset. By looping across the years and different parts, you should be able to robustly upload this large data set to your database instance in around 15 minutes. You should get a table with 28'258,161 rows. ***Note: A select count of the table can take more than half an hour.***\n",
    "\n",
    "You may find the following schema useful in the creation of your table:\n",
    "\n",
    "```\n",
    "--\n",
    "-- Table structure for table `pp_data`\n",
    "--\n",
    "DROP TABLE IF EXISTS `pp_data`;\n",
    "CREATE TABLE IF NOT EXISTS `pp_data` (\n",
    "  `transaction_unique_identifier` tinytext COLLATE utf8_bin NOT NULL,\n",
    "  `price` int(10) unsigned NOT NULL,\n",
    "  `date_of_transfer` date NOT NULL,\n",
    "  `postcode` varchar(8) COLLATE utf8_bin NOT NULL,\n",
    "  `property_type` varchar(1) COLLATE utf8_bin NOT NULL,\n",
    "  `new_build_flag` varchar(1) COLLATE utf8_bin NOT NULL,\n",
    "  `tenure_type` varchar(1) COLLATE utf8_bin NOT NULL,\n",
    "  `primary_addressable_object_name` tinytext COLLATE utf8_bin NOT NULL,\n",
    "  `secondary_addressable_object_name` tinytext COLLATE utf8_bin NOT NULL,\n",
    "  `street` tinytext COLLATE utf8_bin NOT NULL,\n",
    "  `locality` tinytext COLLATE utf8_bin NOT NULL,\n",
    "  `town_city` tinytext COLLATE utf8_bin NOT NULL,\n",
    "  `district` tinytext COLLATE utf8_bin NOT NULL,\n",
    "  `county` tinytext COLLATE utf8_bin NOT NULL,\n",
    "  `ppd_category_type` varchar(2) COLLATE utf8_bin NOT NULL,\n",
    "  `record_status` varchar(2) COLLATE utf8_bin NOT NULL,\n",
    "  `db_id` bigint(20) unsigned NOT NULL\n",
    ") DEFAULT CHARSET=utf8 COLLATE=utf8_bin AUTO_INCREMENT=1 ;\n",
    "```\n",
    "This schema is written by Dale Potter and can be found on Github here: <https://github.com/dalepotter/uk_property_price_data/blob/master/create_db.sql>\n",
    "\n",
    "You may also find it helpful to set up the following primary key to the `pp_data` table. This should be done before uploading your data.\n",
    "\n",
    "```\n",
    "--\n",
    "-- Primary key for table `pp_data`\n",
    "--\n",
    "ALTER TABLE `pp_data`\n",
    "ADD PRIMARY KEY (`db_id`);\n",
    "\n",
    "ALTER TABLE `pp_data`\n",
    "MODIFY db_id bigint(20) unsigned NOT NULL AUTO_INCREMENT, AUTO_INCREMENT=1;\n",
    "```"
   ]
  },
  {
   "cell_type": "markdown",
   "id": "e789b174",
   "metadata": {
    "id": "e789b174"
   },
   "source": [
    "In the box below, briefly describe what the schema is doing."
   ]
  },
  {
   "cell_type": "markdown",
   "id": "d7d9d674",
   "metadata": {
    "id": "d7d9d674"
   },
   "source": [
    "The schema is used to create a fresh instance of our required pp_data table.\n",
    "* It firstly makes sure that any previous instantiation of pp_data is deleted.\n",
    "* Secondly, it creates a new instance of the table by specifying the columns/fields and their associated types that can be found in the table. It is worth nothing that the column names are carefully chosen such that they match the columns from the downloaded CSV file."
   ]
  },
  {
   "cell_type": "code",
   "execution_count": 4,
   "id": "92da8c96",
   "metadata": {
    "id": "92da8c96",
    "ExecuteTime": {
     "end_time": "2023-11-27T20:32:34.028852Z",
     "start_time": "2023-11-27T20:20:16.737054Z"
    }
   },
   "outputs": [],
   "source": [
    "# Write the code you need for creating the table, downloading and uploading the data here. You can use as many code blocks as you need.\n",
    "create_and_populate_pp_data_table(conn)"
   ]
  },
  {
   "cell_type": "markdown",
   "id": "bb9ece66",
   "metadata": {
    "id": "bb9ece66"
   },
   "source": [
    "### Task C\n",
    "\n",
    "Create a database table called `postcode_data` containing the ONS Postcode information. <GetTheData.com> has organised data derived from the UK Office for National Statistics into a convenient CSV file. You can find details [here](https://www.getthedata.com/open-postcode-geo).\n",
    "\n",
    "\n",
    "The data you need can be found at this url: <https://www.getthedata.com/downloads/open_postcode_geo.csv.zip>. It will need to be unzipped before use. Downloading and unzipping the data should not take more than 10 seconds.\n",
    "\n",
    "You may find the following schema useful for the postcode data (developed by Christian and Neil)\n",
    "\n",
    "```\n",
    "USE `property_prices`;\n",
    "--\n",
    "-- Table structure for table `postcode_data`\n",
    "--\n",
    "DROP TABLE IF EXISTS `postcode_data`;\n",
    "CREATE TABLE IF NOT EXISTS `postcode_data` (\n",
    "  `postcode` varchar(8) COLLATE utf8_bin NOT NULL,\n",
    "  `status` enum('live','terminated') NOT NULL,\n",
    "  `usertype` enum('small', 'large') NOT NULL,\n",
    "  `easting` int unsigned,\n",
    "  `northing` int unsigned,\n",
    "  `positional_quality_indicator` int NOT NULL,\n",
    "  `country` enum('England', 'Wales', 'Scotland', 'Northern Ireland', 'Channel Islands', 'Isle of Man') NOT NULL,\n",
    "  `latitude` decimal(11,8) NOT NULL,\n",
    "  `longitude` decimal(10,8) NOT NULL,\n",
    "  `postcode_no_space` tinytext COLLATE utf8_bin NOT NULL,\n",
    "  `postcode_fixed_width_seven` varchar(7) COLLATE utf8_bin NOT NULL,\n",
    "  `postcode_fixed_width_eight` varchar(8) COLLATE utf8_bin NOT NULL,\n",
    "  `postcode_area` varchar(2) COLLATE utf8_bin NOT NULL,\n",
    "  `postcode_district` varchar(4) COLLATE utf8_bin NOT NULL,\n",
    "  `postcode_sector` varchar(6) COLLATE utf8_bin NOT NULL,\n",
    "  `outcode` varchar(4) COLLATE utf8_bin NOT NULL,\n",
    "  `incode` varchar(3)  COLLATE utf8_bin NOT NULL,\n",
    "  `db_id` bigint(20) unsigned NOT NULL\n",
    ") DEFAULT CHARSET=utf8 COLLATE=utf8_bin;\n",
    "```\n",
    "\n",
    "And again you'll want to set up a primary key for the new table.\n",
    "\n",
    "```\n",
    "ALTER TABLE `postcode_data`\n",
    "ADD PRIMARY KEY (`db_id`);\n",
    "\n",
    "ALTER TABLE `postcode_data`\n",
    "MODIFY `db_id` bigint(20) unsigned NOT NULL AUTO_INCREMENT,AUTO_INCREMENT=1;\n",
    "```\n",
    "\n",
    "And you can load the CSV file into the table using this command.\n",
    "\n",
    "```\n",
    "LOAD DATA LOCAL INFILE 'open_postcode_geo.csv' INTO TABLE `postcode_data`\n",
    "FIELDS TERMINATED BY ',' OPTIONALLY ENCLOSED by '\"'\n",
    "LINES STARTING BY '' TERMINATED BY '\\n';\n",
    "```"
   ]
  },
  {
   "cell_type": "code",
   "execution_count": 6,
   "outputs": [],
   "source": [
    "create_and_populate_postcode_data_table(conn)"
   ],
   "metadata": {
    "collapsed": false,
    "ExecuteTime": {
     "end_time": "2023-11-27T20:35:28.110442Z",
     "start_time": "2023-11-27T20:34:15.184425Z"
    }
   },
   "id": "9a3043006d1686a7"
  },
  {
   "cell_type": "markdown",
   "id": "d67ca4ef",
   "metadata": {
    "id": "d67ca4ef"
   },
   "source": [
    "### Task D\n",
    "\n",
    "This table should contain the house price paid and the latitude and longitude of the house. We could create a new data frame that contains all this information. However, the computation of that data frame would take some time because of the size of the two existing tables in the join. Whether this is a good idea or not in a live system will depend on how often these predictions are required. If it's very often, it would be better to store the join as a new table in the database, because the one-off cost for that join is amortised across all the future predictions. If only a few predictions are required (like in our lab class) then doing that join on the fly might be better.\n",
    "\n",
    "- Option A: Think about which columns from each table will be useful to you in making predictions, then write code to efficiently select this information and create a data frame from the two tables for a set of properties. \"Join on the fly\". This option looks easier but the disadvantage is the extra latency it adds as joins are performed every time we need to answer data questions. These latencies are usually not accepted in production environments.\n",
    "\n",
    "- Option B: Alternatively, you can create a database table called `property_prices` to store the join of the tables you created in the previous tasks. The advantage of this approach is that you will get faster responses because the join is performed once. The disadvantage is that populating the new table can take a long time because you would join two big tables. You need to be more creative with this option. Remember that you can divide your dataset by different criteria (e.g., by year) and that loading data from files is much faster than `INSERT INTO` instructions. Populating the table took from 4 to 6 minutes per year in our tests on a Dell Laptop Intel Core i5 with 16GB of RAM and using the Eduroam network at the Computer Lab. Populating the table by year also gives you control over the upload process. You could write your code in a way you can stop and restart the upload process. The new table could have a schema like the one below:\n",
    "\n",
    "  ```\n",
    "  USE `property_prices`;\n",
    "  --\n",
    "  -- Table structure for table `prices_coordinates_data`\n",
    "  --\n",
    "  DROP TABLE IF EXISTS `prices_coordinates_data`;\n",
    "  CREATE TABLE IF NOT EXISTS `prices_coordinates_data` (\n",
    "    `price` int(10) unsigned NOT NULL,\n",
    "    `date_of_transfer` date NOT NULL,\n",
    "    `postcode` varchar(8) COLLATE utf8_bin NOT NULL,\n",
    "    `property_type` varchar(1) COLLATE utf8_bin NOT NULL,\n",
    "    `new_build_flag` varchar(1) COLLATE utf8_bin NOT NULL,\n",
    "    `tenure_type` varchar(1) COLLATE utf8_bin NOT NULL,\n",
    "    `locality` tinytext COLLATE utf8_bin NOT NULL,\n",
    "    `town_city` tinytext COLLATE utf8_bin NOT NULL,\n",
    "    `district` tinytext COLLATE utf8_bin NOT NULL,\n",
    "    `county` tinytext COLLATE utf8_bin NOT NULL,\n",
    "    `country` enum('England', 'Wales', 'Scotland', 'Northern Ireland', 'Channel Islands', 'Isle of Man') NOT NULL,\n",
    "    `latitude` decimal(11,8) NOT NULL,\n",
    "    `longitude` decimal(10,8) NOT NULL,\n",
    "    `db_id` bigint(20) unsigned NOT NULL\n",
    "  ) DEFAULT CHARSET=utf8 COLLATE=utf8_bin AUTO_INCREMENT=1 ;\n",
    "\n",
    "  ```\n",
    "\n",
    "In both cases you will need to perform a join between `pp_data` and `postcode_data` tables. Joining large tables without the right indexes in place will take a long time. You should think and set the right index for an efficient join. Indexing the `pp_data` table should take less than 5 minutes, while it takes less than one minute to index the `postcode_data` table.\n",
    "\n",
    "Note that there is no preference for either approach in the mark scheme.\n",
    "\n",
    "You should use the joined data in your prediction model in Question 3. Exploit the nature of the task to use prices for a particular region in a given period. This means we can select the relevant rows from the database according to that region and period.\n",
    "\n",
    "***After you have populated your database tables and created the functions to access the data you need for Question 3, you will not need to redo any of the previous steps. If at some point you find the AWS database is not responding or taking longer than expected to perform operations, you can have a look at the process list and kill the one are causing problems. If killing the processes does not work, you should reboot the database in the AWS console. Be careful with other database instances if you need to reboot your database. Also, be careful not to delete the database instead of rebooting it. If you delete the database, it is likely you will need to redo all Question 1.***"
   ]
  },
  {
   "cell_type": "code",
   "execution_count": 82,
   "id": "Y-lttyzUtSv7",
   "metadata": {
    "id": "Y-lttyzUtSv7",
    "ExecuteTime": {
     "end_time": "2023-11-28T02:30:25.278157Z",
     "start_time": "2023-11-28T02:25:18.409906Z"
    }
   },
   "outputs": [],
   "source": [
    "# Write the code you used to join the tables, or the code you used to join on the fly.\n",
    "\n",
    "# Firstly, I will create indexes for `postcode` on both tables, as we will be using them to join the tables. Also on date_of_transfer for pp_data.\n",
    "create_column_index_on_pp_data_table(conn, \"postcode\")\n",
    "create_column_index_on_pp_data_table(conn, \"date_of_transfer\")\n",
    "create_column_index_on_postcode_data_table(conn, \"postcode\")\n",
    "\n",
    "# Secondly, let's create the `price_coordinates_data table in our database\n",
    "create_prices_coordinates_data_table(conn)\n",
    "\n",
    "# TODO: Continue with actually populating method"
   ]
  },
  {
   "cell_type": "markdown",
   "id": "df36e5d1",
   "metadata": {
    "id": "df36e5d1"
   },
   "source": [
    "## Question 2. Accessing OpenStreetMap and Assessing the Available Features\n",
    "\n",
    "In question 3 you will be given the task of constructing a prediction system for property price levels at a given location. We expect that knowledge of the local region around the property should be helpful in making those price predictions. To evaluate this we will now look at [OpenStreetMap](https://www.openstreetmap.org) as a data source.\n",
    "\n",
    "The tasks below will guide you in accessing and assessing the OpenStreetMap data. The code you write will eventually be assimilated in your python module, but documentation of what you've included and why should remain in the notebook below.\n",
    "\n",
    "Accessing OpenStreetMap through its API can be done using the python library `osmx`. Using what you have learned about the `osmx` interface in the lectures, write general code for downloading points of interest and other relevant information that you believe may be useful for predicting house prices. Remembering the perspectives we've taken on *data science as debugging*, the remarks we've made when discussing *the data crisis* of the importance of reusability in data analysis, and the techniques we've explored in the labsessions for visualising features and exploring their correlation use the notebook to document your assessment of the OpenStreetMap data as a potential source of data.\n",
    "\n",
    "The knowledge you need to do a first pass through this question will have been taught by end of lab session three (16th November 2021). You will likely want to review your answer as part of *refactoring* your code and analysis pipeline shortly before hand in.\n",
    "\n",
    "You should write reusable code that allows you to explore the characteristics of different points of interest. Looking ahead to question 3 you'll want to incorporate these points of interest in your prediction code.\n",
    "\n",
    "*5 marks*\n"
   ]
  },
  {
   "cell_type": "code",
   "execution_count": 114,
   "outputs": [],
   "source": [
    "# assess\n",
    "from haversine import haversine, Unit\n",
    "\n",
    "def compute_tags_count_per_distance_category(pois_df, latitude, longitude, tags_list=config[\"default_tags_list\"], category_distance_boundaries=config[\"default_category_distance_boundaries\"]):\n",
    "    \n",
    "    tag_count_per_distance_category = {}\n",
    "    \n",
    "    for tag in tags_list:\n",
    "        try:\n",
    "            pois_by_tag = pois_df[pois_df[tag].notnull()]\n",
    "        except Exception:\n",
    "            for category_id, category_distance in category_distance_boundaries.items():\n",
    "                 tag_count_per_distance_category[str(tag) + \"-\" + category_id] = 0\n",
    "            continue\n",
    "        \n",
    "        previous_matched_len = 0\n",
    "        \n",
    "        for category_id, category_distance in category_distance_boundaries.items():\n",
    "            matched_pois = pois_by_tag[pois_by_tag[\"geometry\"].apply(lambda geom: haversine((geom.centroid.x, geom.centroid.y), (longitude, latitude), unit=Unit.KILOMETERS) <= category_distance)]\n",
    "            \n",
    "            tag_count_per_distance_category[str(tag) + \"-\" + category_id] = len(matched_pois) - previous_matched_len\n",
    "            previous_matched_len = len(matched_pois)\n",
    "            \n",
    "    return tag_count_per_distance_category\n",
    "    \n",
    "    \n",
    "def display_corr_between_features_and_price(conn, bounding_box, min_date, max_date, house_type):\n",
    "    house_rows = get_prices_coordinates_for_coords_and_timedelta(conn, bounding_box, min_date, max_date, house_type)\n",
    "    \n",
    "    houses_df = pd.DataFrame(\n",
    "        data=house_rows,\n",
    "        columns=[\"price\", \"date_of_transfer\", \"postcode\", \"property_type\", \"new_build_flag\", \"tenure_type\", \"locality\", \"town_city\", \"district\", \"county\", \"country\", \"latitude\",\"longitude\"]\n",
    "    )\n",
    "    return houses_df\n"
   ],
   "metadata": {
    "collapsed": false,
    "ExecuteTime": {
     "end_time": "2023-11-28T02:54:16.949723Z",
     "start_time": "2023-11-28T02:54:16.925119Z"
    }
   },
   "id": "ee6ab66fd5030d4a"
  },
  {
   "cell_type": "markdown",
   "source": [
    "As mentioned, integrating POIs will help us understand better the price of a house in a given region. Therefore, after investigating what points of interests are important around your house, I have decided to investigate pois having the following tags:\n",
    "* amenity : school\n",
    "* amenity : restaurant\n",
    "* leisure\n",
    "* healthcare\n",
    "* shop\n",
    "* public_transport\n",
    "\n",
    "What will I do with these POIs? I will break them down into three categories each, distance wise from our house location. \n",
    "* First category counts how many of each are within walking distance, which after researching various studies, proves to be around 0.5 kilometers. \n",
    "* Second category counts how many of each individual POIs' tags are within 5 kilometers, which can be considered cycling distance.\n",
    "* Third category, driving distance within 10 kilometers.\n",
    "\n",
    "I am going to compute the distance from our point to any POI using haversine distance. Ideally, we would like to compute this via actual road distance, but this would be quite difficult and would possibly not yield very different results, as the query usually spans a small area of a city.\n",
    "\n",
    "Obviously, we will consider these three categories disjointed, i.e. a location that is within 0.5 kilometers will only be accounted for the first category and not for the remaining two."
   ],
   "metadata": {
    "collapsed": false
   },
   "id": "40dff4b0bf2afba5"
  },
  {
   "cell_type": "code",
   "execution_count": 104,
   "id": "042a2863",
   "metadata": {
    "id": "042a2863",
    "ExecuteTime": {
     "end_time": "2023-11-28T02:49:32.583945Z",
     "start_time": "2023-11-28T02:49:32.232012Z"
    }
   },
   "outputs": [
    {
     "data": {
      "text/plain": "                                                   name public_transport  \\\nelement_type osmid                                                         \nnode         15625999                   Cambridge North    stop_position   \n             18629026                The Galfrid School              NaN   \n             18629028  The Fields Early Learning Centre              NaN   \n             20458873                     Well Pharmacy              NaN   \n             20823646                    Hobbs Pavilion              NaN   \n\n                      railway  ref train                  geometry note  \\\nelement_type osmid                                                        \nnode         15625999    stop    1   yes  POINT (0.15823 52.22355)  NaN   \n             18629026     NaN  NaN   NaN  POINT (0.16180 52.20880)  NaN   \n             18629028     NaN  NaN   NaN  POINT (0.16207 52.20802)  NaN   \n             20458873     NaN  NaN   NaN  POINT (0.14560 52.19752)  NaN   \n             20823646     NaN  NaN   NaN  POINT (0.12613 52.20262)  NaN   \n\n                       addr:city addr:postcode   addr:street  ... blind  \\\nelement_type osmid                                            ...         \nnode         15625999        NaN           NaN           NaN  ...   NaN   \n             18629026  Cambridge       CB5 8ND  Galfrid Road  ...   NaN   \n             18629028  Cambridge       CB5 8ND  Galfrid Road  ...   NaN   \n             20458873  Cambridge       CB1 3AN     Mill Road  ...   NaN   \n             20823646  Cambridge       CB1 1JH  Park Terrace  ...   NaN   \n\n                      playground attraction service:bicycle:second_hand  \\\nelement_type osmid                                                        \nnode         15625999        NaN        NaN                         NaN   \n             18629026        NaN        NaN                         NaN   \n             18629028        NaN        NaN                         NaN   \n             20458873        NaN        NaN                         NaN   \n             20823646        NaN        NaN                         NaN   \n\n                      bathing_water informal supervised theatre:type ways type  \nelement_type osmid                                                              \nnode         15625999           NaN      NaN        NaN          NaN  NaN  NaN  \n             18629026           NaN      NaN        NaN          NaN  NaN  NaN  \n             18629028           NaN      NaN        NaN          NaN  NaN  NaN  \n             20458873           NaN      NaN        NaN          NaN  NaN  NaN  \n             20823646           NaN      NaN        NaN          NaN  NaN  NaN  \n\n[5 rows x 363 columns]",
      "text/html": "<div>\n<style scoped>\n    .dataframe tbody tr th:only-of-type {\n        vertical-align: middle;\n    }\n\n    .dataframe tbody tr th {\n        vertical-align: top;\n    }\n\n    .dataframe thead th {\n        text-align: right;\n    }\n</style>\n<table border=\"1\" class=\"dataframe\">\n  <thead>\n    <tr style=\"text-align: right;\">\n      <th></th>\n      <th></th>\n      <th>name</th>\n      <th>public_transport</th>\n      <th>railway</th>\n      <th>ref</th>\n      <th>train</th>\n      <th>geometry</th>\n      <th>note</th>\n      <th>addr:city</th>\n      <th>addr:postcode</th>\n      <th>addr:street</th>\n      <th>...</th>\n      <th>blind</th>\n      <th>playground</th>\n      <th>attraction</th>\n      <th>service:bicycle:second_hand</th>\n      <th>bathing_water</th>\n      <th>informal</th>\n      <th>supervised</th>\n      <th>theatre:type</th>\n      <th>ways</th>\n      <th>type</th>\n    </tr>\n    <tr>\n      <th>element_type</th>\n      <th>osmid</th>\n      <th></th>\n      <th></th>\n      <th></th>\n      <th></th>\n      <th></th>\n      <th></th>\n      <th></th>\n      <th></th>\n      <th></th>\n      <th></th>\n      <th></th>\n      <th></th>\n      <th></th>\n      <th></th>\n      <th></th>\n      <th></th>\n      <th></th>\n      <th></th>\n      <th></th>\n      <th></th>\n      <th></th>\n    </tr>\n  </thead>\n  <tbody>\n    <tr>\n      <th rowspan=\"5\" valign=\"top\">node</th>\n      <th>15625999</th>\n      <td>Cambridge North</td>\n      <td>stop_position</td>\n      <td>stop</td>\n      <td>1</td>\n      <td>yes</td>\n      <td>POINT (0.15823 52.22355)</td>\n      <td>NaN</td>\n      <td>NaN</td>\n      <td>NaN</td>\n      <td>NaN</td>\n      <td>...</td>\n      <td>NaN</td>\n      <td>NaN</td>\n      <td>NaN</td>\n      <td>NaN</td>\n      <td>NaN</td>\n      <td>NaN</td>\n      <td>NaN</td>\n      <td>NaN</td>\n      <td>NaN</td>\n      <td>NaN</td>\n    </tr>\n    <tr>\n      <th>18629026</th>\n      <td>The Galfrid School</td>\n      <td>NaN</td>\n      <td>NaN</td>\n      <td>NaN</td>\n      <td>NaN</td>\n      <td>POINT (0.16180 52.20880)</td>\n      <td>NaN</td>\n      <td>Cambridge</td>\n      <td>CB5 8ND</td>\n      <td>Galfrid Road</td>\n      <td>...</td>\n      <td>NaN</td>\n      <td>NaN</td>\n      <td>NaN</td>\n      <td>NaN</td>\n      <td>NaN</td>\n      <td>NaN</td>\n      <td>NaN</td>\n      <td>NaN</td>\n      <td>NaN</td>\n      <td>NaN</td>\n    </tr>\n    <tr>\n      <th>18629028</th>\n      <td>The Fields Early Learning Centre</td>\n      <td>NaN</td>\n      <td>NaN</td>\n      <td>NaN</td>\n      <td>NaN</td>\n      <td>POINT (0.16207 52.20802)</td>\n      <td>NaN</td>\n      <td>Cambridge</td>\n      <td>CB5 8ND</td>\n      <td>Galfrid Road</td>\n      <td>...</td>\n      <td>NaN</td>\n      <td>NaN</td>\n      <td>NaN</td>\n      <td>NaN</td>\n      <td>NaN</td>\n      <td>NaN</td>\n      <td>NaN</td>\n      <td>NaN</td>\n      <td>NaN</td>\n      <td>NaN</td>\n    </tr>\n    <tr>\n      <th>20458873</th>\n      <td>Well Pharmacy</td>\n      <td>NaN</td>\n      <td>NaN</td>\n      <td>NaN</td>\n      <td>NaN</td>\n      <td>POINT (0.14560 52.19752)</td>\n      <td>NaN</td>\n      <td>Cambridge</td>\n      <td>CB1 3AN</td>\n      <td>Mill Road</td>\n      <td>...</td>\n      <td>NaN</td>\n      <td>NaN</td>\n      <td>NaN</td>\n      <td>NaN</td>\n      <td>NaN</td>\n      <td>NaN</td>\n      <td>NaN</td>\n      <td>NaN</td>\n      <td>NaN</td>\n      <td>NaN</td>\n    </tr>\n    <tr>\n      <th>20823646</th>\n      <td>Hobbs Pavilion</td>\n      <td>NaN</td>\n      <td>NaN</td>\n      <td>NaN</td>\n      <td>NaN</td>\n      <td>POINT (0.12613 52.20262)</td>\n      <td>NaN</td>\n      <td>Cambridge</td>\n      <td>CB1 1JH</td>\n      <td>Park Terrace</td>\n      <td>...</td>\n      <td>NaN</td>\n      <td>NaN</td>\n      <td>NaN</td>\n      <td>NaN</td>\n      <td>NaN</td>\n      <td>NaN</td>\n      <td>NaN</td>\n      <td>NaN</td>\n      <td>NaN</td>\n      <td>NaN</td>\n    </tr>\n  </tbody>\n</table>\n<p>5 rows × 363 columns</p>\n</div>"
     },
     "execution_count": 104,
     "metadata": {},
     "output_type": "execute_result"
    }
   ],
   "source": [
    "# Use this cell and cells below for summarising your analysis and documenting your decision making.\n",
    "cambridge_longitude = 0.121773\n",
    "cambridge_latitude = 52.205296\n",
    "bounding_box = compute_bounding_box_cardinals(cambridge_latitude, cambridge_longitude)\n",
    "\n",
    "cambridge_pois = retrieve_pois_from_bbox_given_tags(\n",
    "    compute_bounding_box_cardinals(cambridge_latitude, cambridge_longitude)\n",
    ")\n",
    "\n",
    "cambridge_pois.head()"
   ]
  },
  {
   "cell_type": "code",
   "execution_count": 64,
   "outputs": [],
   "source": [
    "tags_category_count = compute_tags_count_per_distance_category(cambridge_pois, cambridge_latitude, cambridge_longitude)"
   ],
   "metadata": {
    "collapsed": false,
    "ExecuteTime": {
     "end_time": "2023-11-28T02:11:47.309730Z",
     "start_time": "2023-11-28T02:11:47.128723Z"
    }
   },
   "id": "7d31cb25fe95ae20"
  },
  {
   "cell_type": "code",
   "execution_count": 84,
   "outputs": [],
   "source": [
    "houses_df = display_corr_between_features_and_price(conn, bounding_box, '2021-01-01', '2021-12-31', 'T')"
   ],
   "metadata": {
    "collapsed": false,
    "ExecuteTime": {
     "end_time": "2023-11-28T02:36:25.803181Z",
     "start_time": "2023-11-28T02:31:28.396807Z"
    }
   },
   "id": "d82e32ba21ea1099"
  },
  {
   "cell_type": "code",
   "execution_count": 137,
   "outputs": [],
   "source": [
    "random_100_houses = houses_df.sample(n=100)"
   ],
   "metadata": {
    "collapsed": false,
    "ExecuteTime": {
     "end_time": "2023-11-28T03:12:28.035435Z",
     "start_time": "2023-11-28T03:12:28.008521Z"
    }
   },
   "id": "a0bf0cda49f32cd8"
  },
  {
   "cell_type": "code",
   "execution_count": 138,
   "outputs": [],
   "source": [
    "def get_distances_features_from_a_house(random_house):\n",
    "    print(float(random_house.latitude), float(random_house.longitude))\n",
    "    bounding_box = compute_bounding_box_cardinals(float(random_house.latitude), float(random_house.longitude))\n",
    "    house_pois = retrieve_pois_from_bbox_given_tags(bounding_box)\n",
    "    # print(house_pois.columns.values)\n",
    "    \n",
    "    return compute_tags_count_per_distance_category(\n",
    "        house_pois,\n",
    "        random_house.latitude,\n",
    "        random_house.longitude\n",
    "    )"
   ],
   "metadata": {
    "collapsed": false,
    "ExecuteTime": {
     "end_time": "2023-11-28T03:12:28.992799Z",
     "start_time": "2023-11-28T03:12:28.973584Z"
    }
   },
   "id": "23e4677747ef66b4"
  },
  {
   "cell_type": "code",
   "execution_count": 139,
   "outputs": [
    {
     "name": "stdout",
     "output_type": "stream",
     "text": [
      "52.207491 0.141409\n",
      "52.170691 0.114253\n",
      "52.218317 0.138943\n",
      "52.197819 0.151858\n",
      "52.167304 0.120614\n",
      "52.221593 0.133111\n",
      "52.213691 0.116251\n",
      "52.214644 0.11372\n",
      "52.240446 0.158974\n",
      "52.232879 0.130739\n",
      "52.217731 0.106532\n",
      "52.194003 0.107443\n",
      "52.18793 0.139123\n",
      "52.221393 0.154698\n",
      "52.199696 0.140623\n",
      "52.168459 0.123081\n",
      "52.210229 0.144906\n",
      "52.205025 0.141524\n",
      "52.224828 0.126473\n",
      "52.232802 0.11754\n",
      "52.227004 0.118948\n",
      "52.214084 0.146732\n",
      "52.216165 0.16863\n",
      "52.201377 0.136196\n",
      "52.214989 0.159234\n",
      "52.201505 0.149682\n",
      "52.205751 0.128488\n",
      "52.167022 0.102409\n",
      "52.213015 0.115326\n",
      "52.197288 0.106765\n",
      "52.197819 0.151858\n",
      "52.204855 0.140241\n",
      "52.219844 0.107042\n",
      "52.196271 0.149195\n",
      "52.2138 0.127689\n",
      "52.21534 0.156526\n",
      "52.167324 0.122984\n",
      "52.212171 0.145645\n",
      "52.228062 0.135575\n",
      "52.197 0.15138\n",
      "52.221332 0.088341\n",
      "52.179347 0.12246\n",
      "52.23844 0.084708\n",
      "52.199804 0.143584\n",
      "52.200214 0.14599\n",
      "52.188683 0.148127\n",
      "52.217114 0.11814\n",
      "52.159936 0.124985\n",
      "52.230152 0.139613\n",
      "52.209599 0.141465\n",
      "52.165204 0.10984\n",
      "52.203627 0.149184\n",
      "52.199804 0.143584\n",
      "52.198213 0.146743\n",
      "52.179135 0.08951\n",
      "52.176862 0.115349\n",
      "52.196323 0.149783\n",
      "52.193837 0.148537\n",
      "52.16979 0.122106\n",
      "52.167684 0.102118\n",
      "52.201277 0.140934\n",
      "52.225576 0.123376\n",
      "52.234151 0.130053\n",
      "52.229724 0.138406\n",
      "52.201228 0.136688\n",
      "52.187247 0.15094\n",
      "52.206379 0.142219\n",
      "52.21354 0.150715\n",
      "52.218369 0.135564\n",
      "52.233539 0.120065\n",
      "52.195831 0.171048\n",
      "52.223556 0.120658\n",
      "52.199575 0.134604\n",
      "52.217378 0.131183\n",
      "52.165047 0.110608\n",
      "52.221332 0.088341\n",
      "52.194355 0.15121\n",
      "52.175151 0.145647\n",
      "52.202553 0.141947\n",
      "52.21601 0.127296\n",
      "52.21374 0.121508\n",
      "52.222933 0.09947\n",
      "52.218811 0.141441\n",
      "52.228265 0.127838\n",
      "52.205025 0.141524\n",
      "52.213258 0.146954\n",
      "52.22292 0.111023\n",
      "52.19881 0.135138\n",
      "52.168386 0.10259\n",
      "52.218317 0.138943\n",
      "52.214344 0.137874\n",
      "52.215131 0.128177\n",
      "52.198645 0.136065\n",
      "52.208737 0.133682\n",
      "52.196156 0.150595\n",
      "52.169989 0.102943\n",
      "52.234543 0.130716\n",
      "52.188806 0.141123\n",
      "52.174984 0.113782\n",
      "52.221948 0.136305\n"
     ]
    }
   ],
   "source": [
    "new_columns_dict = random_100_houses.apply(lambda random_house: get_distances_features_from_a_house(random_house), axis=1)"
   ],
   "metadata": {
    "collapsed": false,
    "ExecuteTime": {
     "end_time": "2023-11-28T03:15:31.958732Z",
     "start_time": "2023-11-28T03:12:30.537827Z"
    }
   },
   "id": "c60eb2a7d3ec6825"
  },
  {
   "cell_type": "code",
   "execution_count": 140,
   "outputs": [],
   "source": [
    "new_columns_df = pd.DataFrame(new_columns_dict.tolist())\n",
    "\n",
    "random_100_houses.reset_index(drop=True, inplace=True)\n",
    "new_columns_df.reset_index(drop=True, inplace=True)\n",
    "\n",
    "extended_random_100_houses = pd.concat([random_100_houses, new_columns_df], axis=1)"
   ],
   "metadata": {
    "collapsed": false,
    "ExecuteTime": {
     "end_time": "2023-11-28T03:15:31.963056Z",
     "start_time": "2023-11-28T03:15:31.959201Z"
    }
   },
   "id": "63dfd33ea6bc12da"
  },
  {
   "cell_type": "code",
   "execution_count": 141,
   "outputs": [],
   "source": [
    "filtered_extended_random_houses = extended_random_100_houses[[\n",
    "    'price',\n",
    "    'school-walking_distance', 'school-cycling_distance', 'school-driving_distance', \n",
    "    'restaurant-walking_distance', 'restaurant-cycling_distance', 'restaurant-driving_distance',\n",
    "    'leisure-walking_distance', 'leisure-cycling_distance', 'leisure-driving_distance',\n",
    "    'healthcare-walking_distance', 'healthcare-cycling_distance', 'healthcare-driving_distance',\n",
    "    'shop-walking_distance', 'shop-cycling_distance', 'shop-driving_distance',\n",
    "    'public_transport-walking_distance', 'public_transport-cycling_distance', 'public_transport-driving_distance'\n",
    "]]"
   ],
   "metadata": {
    "collapsed": false,
    "ExecuteTime": {
     "end_time": "2023-11-28T03:15:31.963144Z",
     "start_time": "2023-11-28T03:15:31.961749Z"
    }
   },
   "id": "1d163d994e84a41f"
  },
  {
   "cell_type": "code",
   "execution_count": 143,
   "outputs": [
    {
     "name": "stderr",
     "output_type": "stream",
     "text": [
      "/var/folders/zw/k_yg06y900n5xjbfnsrj3mlw0000gn/T/ipykernel_35806/374109193.py:1: SettingWithCopyWarning: \n",
      "A value is trying to be set on a copy of a slice from a DataFrame\n",
      "\n",
      "See the caveats in the documentation: https://pandas.pydata.org/pandas-docs/stable/user_guide/indexing.html#returning-a-view-versus-a-copy\n",
      "  filtered_extended_random_houses.fillna(0, inplace=True)\n"
     ]
    },
    {
     "data": {
      "text/plain": "                                      price  school-walking_distance  \\\nprice                              1.000000                      NaN   \nschool-walking_distance                 NaN                      NaN   \nschool-cycling_distance           -0.122061                      NaN   \nschool-driving_distance            0.064665                      NaN   \nrestaurant-walking_distance       -0.081403                      NaN   \nrestaurant-cycling_distance        0.074736                      NaN   \nrestaurant-driving_distance        0.131599                      NaN   \nleisure-walking_distance           0.255819                      NaN   \nleisure-cycling_distance           0.246288                      NaN   \nleisure-driving_distance          -0.140864                      NaN   \nhealthcare-walking_distance        0.256657                      NaN   \nhealthcare-cycling_distance        0.011503                      NaN   \nhealthcare-driving_distance       -0.084300                      NaN   \nshop-walking_distance              0.176157                      NaN   \nshop-cycling_distance              0.016327                      NaN   \nshop-driving_distance             -0.060197                      NaN   \npublic_transport-walking_distance  0.225897                      NaN   \npublic_transport-cycling_distance  0.134529                      NaN   \npublic_transport-driving_distance -0.003166                      NaN   \n\n                                   school-cycling_distance  \\\nprice                                            -0.122061   \nschool-walking_distance                                NaN   \nschool-cycling_distance                           1.000000   \nschool-driving_distance                          -0.578775   \nrestaurant-walking_distance                      -0.193244   \nrestaurant-cycling_distance                       0.161024   \nrestaurant-driving_distance                       0.195638   \nleisure-walking_distance                          0.003715   \nleisure-cycling_distance                          0.217106   \nleisure-driving_distance                         -0.108804   \nhealthcare-walking_distance                       0.508978   \nhealthcare-cycling_distance                       0.715500   \nhealthcare-driving_distance                      -0.627763   \nshop-walking_distance                             0.559285   \nshop-cycling_distance                             0.593483   \nshop-driving_distance                            -0.590211   \npublic_transport-walking_distance                -0.132227   \npublic_transport-cycling_distance                 0.605116   \npublic_transport-driving_distance                -0.397547   \n\n                                   school-driving_distance  \\\nprice                                             0.064665   \nschool-walking_distance                                NaN   \nschool-cycling_distance                          -0.578775   \nschool-driving_distance                           1.000000   \nrestaurant-walking_distance                       0.317137   \nrestaurant-cycling_distance                      -0.291267   \nrestaurant-driving_distance                      -0.015823   \nleisure-walking_distance                          0.011865   \nleisure-cycling_distance                          0.155336   \nleisure-driving_distance                         -0.163708   \nhealthcare-walking_distance                      -0.269153   \nhealthcare-cycling_distance                      -0.089018   \nhealthcare-driving_distance                       0.015019   \nshop-walking_distance                            -0.308246   \nshop-cycling_distance                            -0.014978   \nshop-driving_distance                             0.021740   \npublic_transport-walking_distance                 0.230659   \npublic_transport-cycling_distance                -0.089606   \npublic_transport-driving_distance                -0.104239   \n\n                                   restaurant-walking_distance  \\\nprice                                                -0.081403   \nschool-walking_distance                                    NaN   \nschool-cycling_distance                              -0.193244   \nschool-driving_distance                               0.317137   \nrestaurant-walking_distance                           1.000000   \nrestaurant-cycling_distance                          -0.134528   \nrestaurant-driving_distance                          -0.073654   \nleisure-walking_distance                              0.112763   \nleisure-cycling_distance                             -0.028777   \nleisure-driving_distance                              0.106191   \nhealthcare-walking_distance                          -0.126839   \nhealthcare-cycling_distance                          -0.126867   \nhealthcare-driving_distance                           0.099346   \nshop-walking_distance                                -0.124540   \nshop-cycling_distance                                -0.111980   \nshop-driving_distance                                 0.100351   \npublic_transport-walking_distance                     0.073312   \npublic_transport-cycling_distance                    -0.116477   \npublic_transport-driving_distance                     0.082093   \n\n                                   restaurant-cycling_distance  \\\nprice                                                 0.074736   \nschool-walking_distance                                    NaN   \nschool-cycling_distance                               0.161024   \nschool-driving_distance                              -0.291267   \nrestaurant-walking_distance                          -0.134528   \nrestaurant-cycling_distance                           1.000000   \nrestaurant-driving_distance                          -0.485520   \nleisure-walking_distance                              0.209610   \nleisure-cycling_distance                              0.120894   \nleisure-driving_distance                              0.291258   \nhealthcare-walking_distance                           0.168586   \nhealthcare-cycling_distance                          -0.068043   \nhealthcare-driving_distance                           0.051090   \nshop-walking_distance                                 0.209605   \nshop-cycling_distance                                -0.088779   \nshop-driving_distance                                 0.094113   \npublic_transport-walking_distance                    -0.162510   \npublic_transport-cycling_distance                     0.162021   \npublic_transport-driving_distance                     0.152678   \n\n                                   restaurant-driving_distance  \\\nprice                                                 0.131599   \nschool-walking_distance                                    NaN   \nschool-cycling_distance                               0.195638   \nschool-driving_distance                              -0.015823   \nrestaurant-walking_distance                          -0.073654   \nrestaurant-cycling_distance                          -0.485520   \nrestaurant-driving_distance                           1.000000   \nleisure-walking_distance                             -0.300691   \nleisure-cycling_distance                              0.091350   \nleisure-driving_distance                             -0.208325   \nhealthcare-walking_distance                           0.186022   \nhealthcare-cycling_distance                           0.231065   \nhealthcare-driving_distance                          -0.194314   \nshop-walking_distance                                 0.230088   \nshop-cycling_distance                                 0.165941   \nshop-driving_distance                                -0.193028   \npublic_transport-walking_distance                     0.123741   \npublic_transport-cycling_distance                     0.131297   \npublic_transport-driving_distance                    -0.081095   \n\n                                   leisure-walking_distance  \\\nprice                                              0.255819   \nschool-walking_distance                                 NaN   \nschool-cycling_distance                            0.003715   \nschool-driving_distance                            0.011865   \nrestaurant-walking_distance                        0.112763   \nrestaurant-cycling_distance                        0.209610   \nrestaurant-driving_distance                       -0.300691   \nleisure-walking_distance                           1.000000   \nleisure-cycling_distance                           0.182382   \nleisure-driving_distance                          -0.299148   \nhealthcare-walking_distance                        0.177583   \nhealthcare-cycling_distance                        0.044057   \nhealthcare-driving_distance                       -0.075928   \nshop-walking_distance                              0.122003   \nshop-cycling_distance                              0.091302   \nshop-driving_distance                             -0.140273   \npublic_transport-walking_distance                  0.095641   \npublic_transport-cycling_distance                  0.149188   \npublic_transport-driving_distance                 -0.214154   \n\n                                   leisure-cycling_distance  \\\nprice                                              0.246288   \nschool-walking_distance                                 NaN   \nschool-cycling_distance                            0.217106   \nschool-driving_distance                            0.155336   \nrestaurant-walking_distance                       -0.028777   \nrestaurant-cycling_distance                        0.120894   \nrestaurant-driving_distance                        0.091350   \nleisure-walking_distance                           0.182382   \nleisure-cycling_distance                           1.000000   \nleisure-driving_distance                          -0.681711   \nhealthcare-walking_distance                        0.517467   \nhealthcare-cycling_distance                        0.644483   \nhealthcare-driving_distance                       -0.689547   \nshop-walking_distance                              0.501499   \nshop-cycling_distance                              0.732175   \nshop-driving_distance                             -0.714636   \npublic_transport-walking_distance                  0.326116   \npublic_transport-cycling_distance                  0.838515   \npublic_transport-driving_distance                 -0.728388   \n\n                                   leisure-driving_distance  \\\nprice                                             -0.140864   \nschool-walking_distance                                 NaN   \nschool-cycling_distance                           -0.108804   \nschool-driving_distance                           -0.163708   \nrestaurant-walking_distance                        0.106191   \nrestaurant-cycling_distance                        0.291258   \nrestaurant-driving_distance                       -0.208325   \nleisure-walking_distance                          -0.299148   \nleisure-cycling_distance                          -0.681711   \nleisure-driving_distance                           1.000000   \nhealthcare-walking_distance                       -0.352302   \nhealthcare-cycling_distance                       -0.523459   \nhealthcare-driving_distance                        0.544860   \nshop-walking_distance                             -0.326288   \nshop-cycling_distance                             -0.600556   \nshop-driving_distance                              0.621591   \npublic_transport-walking_distance                 -0.307148   \npublic_transport-cycling_distance                 -0.553282   \npublic_transport-driving_distance                  0.723730   \n\n                                   healthcare-walking_distance  \\\nprice                                                 0.256657   \nschool-walking_distance                                    NaN   \nschool-cycling_distance                               0.508978   \nschool-driving_distance                              -0.269153   \nrestaurant-walking_distance                          -0.126839   \nrestaurant-cycling_distance                           0.168586   \nrestaurant-driving_distance                           0.186022   \nleisure-walking_distance                              0.177583   \nleisure-cycling_distance                              0.517467   \nleisure-driving_distance                             -0.352302   \nhealthcare-walking_distance                           1.000000   \nhealthcare-cycling_distance                           0.453660   \nhealthcare-driving_distance                          -0.488057   \nshop-walking_distance                                 0.566489   \nshop-cycling_distance                                 0.458409   \nshop-driving_distance                                -0.459278   \npublic_transport-walking_distance                     0.127909   \npublic_transport-cycling_distance                     0.581293   \npublic_transport-driving_distance                    -0.407674   \n\n                                   healthcare-cycling_distance  \\\nprice                                                 0.011503   \nschool-walking_distance                                    NaN   \nschool-cycling_distance                               0.715500   \nschool-driving_distance                              -0.089018   \nrestaurant-walking_distance                          -0.126867   \nrestaurant-cycling_distance                          -0.068043   \nrestaurant-driving_distance                           0.231065   \nleisure-walking_distance                              0.044057   \nleisure-cycling_distance                              0.644483   \nleisure-driving_distance                             -0.523459   \nhealthcare-walking_distance                           0.453660   \nhealthcare-cycling_distance                           1.000000   \nhealthcare-driving_distance                          -0.955319   \nshop-walking_distance                                 0.497304   \nshop-cycling_distance                                 0.961399   \nshop-driving_distance                                -0.932935   \npublic_transport-walking_distance                     0.054663   \npublic_transport-cycling_distance                     0.900387   \npublic_transport-driving_distance                    -0.697449   \n\n                                   healthcare-driving_distance  \\\nprice                                                -0.084300   \nschool-walking_distance                                    NaN   \nschool-cycling_distance                              -0.627763   \nschool-driving_distance                               0.015019   \nrestaurant-walking_distance                           0.099346   \nrestaurant-cycling_distance                           0.051090   \nrestaurant-driving_distance                          -0.194314   \nleisure-walking_distance                             -0.075928   \nleisure-cycling_distance                             -0.689547   \nleisure-driving_distance                              0.544860   \nhealthcare-walking_distance                          -0.488057   \nhealthcare-cycling_distance                          -0.955319   \nhealthcare-driving_distance                           1.000000   \nshop-walking_distance                                -0.470871   \nshop-cycling_distance                                -0.927121   \nshop-driving_distance                                 0.937527   \npublic_transport-walking_distance                    -0.122461   \npublic_transport-cycling_distance                    -0.897776   \npublic_transport-driving_distance                     0.712462   \n\n                                   shop-walking_distance  \\\nprice                                           0.176157   \nschool-walking_distance                              NaN   \nschool-cycling_distance                         0.559285   \nschool-driving_distance                        -0.308246   \nrestaurant-walking_distance                    -0.124540   \nrestaurant-cycling_distance                     0.209605   \nrestaurant-driving_distance                     0.230088   \nleisure-walking_distance                        0.122003   \nleisure-cycling_distance                        0.501499   \nleisure-driving_distance                       -0.326288   \nhealthcare-walking_distance                     0.566489   \nhealthcare-cycling_distance                     0.497304   \nhealthcare-driving_distance                    -0.470871   \nshop-walking_distance                           1.000000   \nshop-cycling_distance                           0.407062   \nshop-driving_distance                          -0.472671   \npublic_transport-walking_distance               0.188571   \npublic_transport-cycling_distance               0.593564   \npublic_transport-driving_distance              -0.461067   \n\n                                   shop-cycling_distance  \\\nprice                                           0.016327   \nschool-walking_distance                              NaN   \nschool-cycling_distance                         0.593483   \nschool-driving_distance                        -0.014978   \nrestaurant-walking_distance                    -0.111980   \nrestaurant-cycling_distance                    -0.088779   \nrestaurant-driving_distance                     0.165941   \nleisure-walking_distance                        0.091302   \nleisure-cycling_distance                        0.732175   \nleisure-driving_distance                       -0.600556   \nhealthcare-walking_distance                     0.458409   \nhealthcare-cycling_distance                     0.961399   \nhealthcare-driving_distance                    -0.927121   \nshop-walking_distance                           0.407062   \nshop-cycling_distance                           1.000000   \nshop-driving_distance                          -0.962173   \npublic_transport-walking_distance               0.088473   \npublic_transport-cycling_distance               0.915192   \npublic_transport-driving_distance              -0.761932   \n\n                                   shop-driving_distance  \\\nprice                                          -0.060197   \nschool-walking_distance                              NaN   \nschool-cycling_distance                        -0.590211   \nschool-driving_distance                         0.021740   \nrestaurant-walking_distance                     0.100351   \nrestaurant-cycling_distance                     0.094113   \nrestaurant-driving_distance                    -0.193028   \nleisure-walking_distance                       -0.140273   \nleisure-cycling_distance                       -0.714636   \nleisure-driving_distance                        0.621591   \nhealthcare-walking_distance                    -0.459278   \nhealthcare-cycling_distance                    -0.932935   \nhealthcare-driving_distance                     0.937527   \nshop-walking_distance                          -0.472671   \nshop-cycling_distance                          -0.962173   \nshop-driving_distance                           1.000000   \npublic_transport-walking_distance              -0.122931   \npublic_transport-cycling_distance              -0.904178   \npublic_transport-driving_distance               0.772167   \n\n                                   public_transport-walking_distance  \\\nprice                                                       0.225897   \nschool-walking_distance                                          NaN   \nschool-cycling_distance                                    -0.132227   \nschool-driving_distance                                     0.230659   \nrestaurant-walking_distance                                 0.073312   \nrestaurant-cycling_distance                                -0.162510   \nrestaurant-driving_distance                                 0.123741   \nleisure-walking_distance                                    0.095641   \nleisure-cycling_distance                                    0.326116   \nleisure-driving_distance                                   -0.307148   \nhealthcare-walking_distance                                 0.127909   \nhealthcare-cycling_distance                                 0.054663   \nhealthcare-driving_distance                                -0.122461   \nshop-walking_distance                                       0.188571   \nshop-cycling_distance                                       0.088473   \nshop-driving_distance                                      -0.122931   \npublic_transport-walking_distance                           1.000000   \npublic_transport-cycling_distance                           0.072980   \npublic_transport-driving_distance                          -0.223430   \n\n                                   public_transport-cycling_distance  \\\nprice                                                       0.134529   \nschool-walking_distance                                          NaN   \nschool-cycling_distance                                     0.605116   \nschool-driving_distance                                    -0.089606   \nrestaurant-walking_distance                                -0.116477   \nrestaurant-cycling_distance                                 0.162021   \nrestaurant-driving_distance                                 0.131297   \nleisure-walking_distance                                    0.149188   \nleisure-cycling_distance                                    0.838515   \nleisure-driving_distance                                   -0.553282   \nhealthcare-walking_distance                                 0.581293   \nhealthcare-cycling_distance                                 0.900387   \nhealthcare-driving_distance                                -0.897776   \nshop-walking_distance                                       0.593564   \nshop-cycling_distance                                       0.915192   \nshop-driving_distance                                      -0.904178   \npublic_transport-walking_distance                           0.072980   \npublic_transport-cycling_distance                           1.000000   \npublic_transport-driving_distance                          -0.782056   \n\n                                   public_transport-driving_distance  \nprice                                                      -0.003166  \nschool-walking_distance                                          NaN  \nschool-cycling_distance                                    -0.397547  \nschool-driving_distance                                    -0.104239  \nrestaurant-walking_distance                                 0.082093  \nrestaurant-cycling_distance                                 0.152678  \nrestaurant-driving_distance                                -0.081095  \nleisure-walking_distance                                   -0.214154  \nleisure-cycling_distance                                   -0.728388  \nleisure-driving_distance                                    0.723730  \nhealthcare-walking_distance                                -0.407674  \nhealthcare-cycling_distance                                -0.697449  \nhealthcare-driving_distance                                 0.712462  \nshop-walking_distance                                      -0.461067  \nshop-cycling_distance                                      -0.761932  \nshop-driving_distance                                       0.772167  \npublic_transport-walking_distance                          -0.223430  \npublic_transport-cycling_distance                          -0.782056  \npublic_transport-driving_distance                           1.000000  ",
      "text/html": "<div>\n<style scoped>\n    .dataframe tbody tr th:only-of-type {\n        vertical-align: middle;\n    }\n\n    .dataframe tbody tr th {\n        vertical-align: top;\n    }\n\n    .dataframe thead th {\n        text-align: right;\n    }\n</style>\n<table border=\"1\" class=\"dataframe\">\n  <thead>\n    <tr style=\"text-align: right;\">\n      <th></th>\n      <th>price</th>\n      <th>school-walking_distance</th>\n      <th>school-cycling_distance</th>\n      <th>school-driving_distance</th>\n      <th>restaurant-walking_distance</th>\n      <th>restaurant-cycling_distance</th>\n      <th>restaurant-driving_distance</th>\n      <th>leisure-walking_distance</th>\n      <th>leisure-cycling_distance</th>\n      <th>leisure-driving_distance</th>\n      <th>healthcare-walking_distance</th>\n      <th>healthcare-cycling_distance</th>\n      <th>healthcare-driving_distance</th>\n      <th>shop-walking_distance</th>\n      <th>shop-cycling_distance</th>\n      <th>shop-driving_distance</th>\n      <th>public_transport-walking_distance</th>\n      <th>public_transport-cycling_distance</th>\n      <th>public_transport-driving_distance</th>\n    </tr>\n  </thead>\n  <tbody>\n    <tr>\n      <th>price</th>\n      <td>1.000000</td>\n      <td>NaN</td>\n      <td>-0.122061</td>\n      <td>0.064665</td>\n      <td>-0.081403</td>\n      <td>0.074736</td>\n      <td>0.131599</td>\n      <td>0.255819</td>\n      <td>0.246288</td>\n      <td>-0.140864</td>\n      <td>0.256657</td>\n      <td>0.011503</td>\n      <td>-0.084300</td>\n      <td>0.176157</td>\n      <td>0.016327</td>\n      <td>-0.060197</td>\n      <td>0.225897</td>\n      <td>0.134529</td>\n      <td>-0.003166</td>\n    </tr>\n    <tr>\n      <th>school-walking_distance</th>\n      <td>NaN</td>\n      <td>NaN</td>\n      <td>NaN</td>\n      <td>NaN</td>\n      <td>NaN</td>\n      <td>NaN</td>\n      <td>NaN</td>\n      <td>NaN</td>\n      <td>NaN</td>\n      <td>NaN</td>\n      <td>NaN</td>\n      <td>NaN</td>\n      <td>NaN</td>\n      <td>NaN</td>\n      <td>NaN</td>\n      <td>NaN</td>\n      <td>NaN</td>\n      <td>NaN</td>\n      <td>NaN</td>\n    </tr>\n    <tr>\n      <th>school-cycling_distance</th>\n      <td>-0.122061</td>\n      <td>NaN</td>\n      <td>1.000000</td>\n      <td>-0.578775</td>\n      <td>-0.193244</td>\n      <td>0.161024</td>\n      <td>0.195638</td>\n      <td>0.003715</td>\n      <td>0.217106</td>\n      <td>-0.108804</td>\n      <td>0.508978</td>\n      <td>0.715500</td>\n      <td>-0.627763</td>\n      <td>0.559285</td>\n      <td>0.593483</td>\n      <td>-0.590211</td>\n      <td>-0.132227</td>\n      <td>0.605116</td>\n      <td>-0.397547</td>\n    </tr>\n    <tr>\n      <th>school-driving_distance</th>\n      <td>0.064665</td>\n      <td>NaN</td>\n      <td>-0.578775</td>\n      <td>1.000000</td>\n      <td>0.317137</td>\n      <td>-0.291267</td>\n      <td>-0.015823</td>\n      <td>0.011865</td>\n      <td>0.155336</td>\n      <td>-0.163708</td>\n      <td>-0.269153</td>\n      <td>-0.089018</td>\n      <td>0.015019</td>\n      <td>-0.308246</td>\n      <td>-0.014978</td>\n      <td>0.021740</td>\n      <td>0.230659</td>\n      <td>-0.089606</td>\n      <td>-0.104239</td>\n    </tr>\n    <tr>\n      <th>restaurant-walking_distance</th>\n      <td>-0.081403</td>\n      <td>NaN</td>\n      <td>-0.193244</td>\n      <td>0.317137</td>\n      <td>1.000000</td>\n      <td>-0.134528</td>\n      <td>-0.073654</td>\n      <td>0.112763</td>\n      <td>-0.028777</td>\n      <td>0.106191</td>\n      <td>-0.126839</td>\n      <td>-0.126867</td>\n      <td>0.099346</td>\n      <td>-0.124540</td>\n      <td>-0.111980</td>\n      <td>0.100351</td>\n      <td>0.073312</td>\n      <td>-0.116477</td>\n      <td>0.082093</td>\n    </tr>\n    <tr>\n      <th>restaurant-cycling_distance</th>\n      <td>0.074736</td>\n      <td>NaN</td>\n      <td>0.161024</td>\n      <td>-0.291267</td>\n      <td>-0.134528</td>\n      <td>1.000000</td>\n      <td>-0.485520</td>\n      <td>0.209610</td>\n      <td>0.120894</td>\n      <td>0.291258</td>\n      <td>0.168586</td>\n      <td>-0.068043</td>\n      <td>0.051090</td>\n      <td>0.209605</td>\n      <td>-0.088779</td>\n      <td>0.094113</td>\n      <td>-0.162510</td>\n      <td>0.162021</td>\n      <td>0.152678</td>\n    </tr>\n    <tr>\n      <th>restaurant-driving_distance</th>\n      <td>0.131599</td>\n      <td>NaN</td>\n      <td>0.195638</td>\n      <td>-0.015823</td>\n      <td>-0.073654</td>\n      <td>-0.485520</td>\n      <td>1.000000</td>\n      <td>-0.300691</td>\n      <td>0.091350</td>\n      <td>-0.208325</td>\n      <td>0.186022</td>\n      <td>0.231065</td>\n      <td>-0.194314</td>\n      <td>0.230088</td>\n      <td>0.165941</td>\n      <td>-0.193028</td>\n      <td>0.123741</td>\n      <td>0.131297</td>\n      <td>-0.081095</td>\n    </tr>\n    <tr>\n      <th>leisure-walking_distance</th>\n      <td>0.255819</td>\n      <td>NaN</td>\n      <td>0.003715</td>\n      <td>0.011865</td>\n      <td>0.112763</td>\n      <td>0.209610</td>\n      <td>-0.300691</td>\n      <td>1.000000</td>\n      <td>0.182382</td>\n      <td>-0.299148</td>\n      <td>0.177583</td>\n      <td>0.044057</td>\n      <td>-0.075928</td>\n      <td>0.122003</td>\n      <td>0.091302</td>\n      <td>-0.140273</td>\n      <td>0.095641</td>\n      <td>0.149188</td>\n      <td>-0.214154</td>\n    </tr>\n    <tr>\n      <th>leisure-cycling_distance</th>\n      <td>0.246288</td>\n      <td>NaN</td>\n      <td>0.217106</td>\n      <td>0.155336</td>\n      <td>-0.028777</td>\n      <td>0.120894</td>\n      <td>0.091350</td>\n      <td>0.182382</td>\n      <td>1.000000</td>\n      <td>-0.681711</td>\n      <td>0.517467</td>\n      <td>0.644483</td>\n      <td>-0.689547</td>\n      <td>0.501499</td>\n      <td>0.732175</td>\n      <td>-0.714636</td>\n      <td>0.326116</td>\n      <td>0.838515</td>\n      <td>-0.728388</td>\n    </tr>\n    <tr>\n      <th>leisure-driving_distance</th>\n      <td>-0.140864</td>\n      <td>NaN</td>\n      <td>-0.108804</td>\n      <td>-0.163708</td>\n      <td>0.106191</td>\n      <td>0.291258</td>\n      <td>-0.208325</td>\n      <td>-0.299148</td>\n      <td>-0.681711</td>\n      <td>1.000000</td>\n      <td>-0.352302</td>\n      <td>-0.523459</td>\n      <td>0.544860</td>\n      <td>-0.326288</td>\n      <td>-0.600556</td>\n      <td>0.621591</td>\n      <td>-0.307148</td>\n      <td>-0.553282</td>\n      <td>0.723730</td>\n    </tr>\n    <tr>\n      <th>healthcare-walking_distance</th>\n      <td>0.256657</td>\n      <td>NaN</td>\n      <td>0.508978</td>\n      <td>-0.269153</td>\n      <td>-0.126839</td>\n      <td>0.168586</td>\n      <td>0.186022</td>\n      <td>0.177583</td>\n      <td>0.517467</td>\n      <td>-0.352302</td>\n      <td>1.000000</td>\n      <td>0.453660</td>\n      <td>-0.488057</td>\n      <td>0.566489</td>\n      <td>0.458409</td>\n      <td>-0.459278</td>\n      <td>0.127909</td>\n      <td>0.581293</td>\n      <td>-0.407674</td>\n    </tr>\n    <tr>\n      <th>healthcare-cycling_distance</th>\n      <td>0.011503</td>\n      <td>NaN</td>\n      <td>0.715500</td>\n      <td>-0.089018</td>\n      <td>-0.126867</td>\n      <td>-0.068043</td>\n      <td>0.231065</td>\n      <td>0.044057</td>\n      <td>0.644483</td>\n      <td>-0.523459</td>\n      <td>0.453660</td>\n      <td>1.000000</td>\n      <td>-0.955319</td>\n      <td>0.497304</td>\n      <td>0.961399</td>\n      <td>-0.932935</td>\n      <td>0.054663</td>\n      <td>0.900387</td>\n      <td>-0.697449</td>\n    </tr>\n    <tr>\n      <th>healthcare-driving_distance</th>\n      <td>-0.084300</td>\n      <td>NaN</td>\n      <td>-0.627763</td>\n      <td>0.015019</td>\n      <td>0.099346</td>\n      <td>0.051090</td>\n      <td>-0.194314</td>\n      <td>-0.075928</td>\n      <td>-0.689547</td>\n      <td>0.544860</td>\n      <td>-0.488057</td>\n      <td>-0.955319</td>\n      <td>1.000000</td>\n      <td>-0.470871</td>\n      <td>-0.927121</td>\n      <td>0.937527</td>\n      <td>-0.122461</td>\n      <td>-0.897776</td>\n      <td>0.712462</td>\n    </tr>\n    <tr>\n      <th>shop-walking_distance</th>\n      <td>0.176157</td>\n      <td>NaN</td>\n      <td>0.559285</td>\n      <td>-0.308246</td>\n      <td>-0.124540</td>\n      <td>0.209605</td>\n      <td>0.230088</td>\n      <td>0.122003</td>\n      <td>0.501499</td>\n      <td>-0.326288</td>\n      <td>0.566489</td>\n      <td>0.497304</td>\n      <td>-0.470871</td>\n      <td>1.000000</td>\n      <td>0.407062</td>\n      <td>-0.472671</td>\n      <td>0.188571</td>\n      <td>0.593564</td>\n      <td>-0.461067</td>\n    </tr>\n    <tr>\n      <th>shop-cycling_distance</th>\n      <td>0.016327</td>\n      <td>NaN</td>\n      <td>0.593483</td>\n      <td>-0.014978</td>\n      <td>-0.111980</td>\n      <td>-0.088779</td>\n      <td>0.165941</td>\n      <td>0.091302</td>\n      <td>0.732175</td>\n      <td>-0.600556</td>\n      <td>0.458409</td>\n      <td>0.961399</td>\n      <td>-0.927121</td>\n      <td>0.407062</td>\n      <td>1.000000</td>\n      <td>-0.962173</td>\n      <td>0.088473</td>\n      <td>0.915192</td>\n      <td>-0.761932</td>\n    </tr>\n    <tr>\n      <th>shop-driving_distance</th>\n      <td>-0.060197</td>\n      <td>NaN</td>\n      <td>-0.590211</td>\n      <td>0.021740</td>\n      <td>0.100351</td>\n      <td>0.094113</td>\n      <td>-0.193028</td>\n      <td>-0.140273</td>\n      <td>-0.714636</td>\n      <td>0.621591</td>\n      <td>-0.459278</td>\n      <td>-0.932935</td>\n      <td>0.937527</td>\n      <td>-0.472671</td>\n      <td>-0.962173</td>\n      <td>1.000000</td>\n      <td>-0.122931</td>\n      <td>-0.904178</td>\n      <td>0.772167</td>\n    </tr>\n    <tr>\n      <th>public_transport-walking_distance</th>\n      <td>0.225897</td>\n      <td>NaN</td>\n      <td>-0.132227</td>\n      <td>0.230659</td>\n      <td>0.073312</td>\n      <td>-0.162510</td>\n      <td>0.123741</td>\n      <td>0.095641</td>\n      <td>0.326116</td>\n      <td>-0.307148</td>\n      <td>0.127909</td>\n      <td>0.054663</td>\n      <td>-0.122461</td>\n      <td>0.188571</td>\n      <td>0.088473</td>\n      <td>-0.122931</td>\n      <td>1.000000</td>\n      <td>0.072980</td>\n      <td>-0.223430</td>\n    </tr>\n    <tr>\n      <th>public_transport-cycling_distance</th>\n      <td>0.134529</td>\n      <td>NaN</td>\n      <td>0.605116</td>\n      <td>-0.089606</td>\n      <td>-0.116477</td>\n      <td>0.162021</td>\n      <td>0.131297</td>\n      <td>0.149188</td>\n      <td>0.838515</td>\n      <td>-0.553282</td>\n      <td>0.581293</td>\n      <td>0.900387</td>\n      <td>-0.897776</td>\n      <td>0.593564</td>\n      <td>0.915192</td>\n      <td>-0.904178</td>\n      <td>0.072980</td>\n      <td>1.000000</td>\n      <td>-0.782056</td>\n    </tr>\n    <tr>\n      <th>public_transport-driving_distance</th>\n      <td>-0.003166</td>\n      <td>NaN</td>\n      <td>-0.397547</td>\n      <td>-0.104239</td>\n      <td>0.082093</td>\n      <td>0.152678</td>\n      <td>-0.081095</td>\n      <td>-0.214154</td>\n      <td>-0.728388</td>\n      <td>0.723730</td>\n      <td>-0.407674</td>\n      <td>-0.697449</td>\n      <td>0.712462</td>\n      <td>-0.461067</td>\n      <td>-0.761932</td>\n      <td>0.772167</td>\n      <td>-0.223430</td>\n      <td>-0.782056</td>\n      <td>1.000000</td>\n    </tr>\n  </tbody>\n</table>\n</div>"
     },
     "execution_count": 143,
     "metadata": {},
     "output_type": "execute_result"
    }
   ],
   "source": [
    "filtered_extended_random_houses.fillna(0, inplace=True)\n",
    "filtered_extended_random_houses.corr()"
   ],
   "metadata": {
    "collapsed": false,
    "ExecuteTime": {
     "end_time": "2023-11-28T03:15:54.704254Z",
     "start_time": "2023-11-28T03:15:54.653530Z"
    }
   },
   "id": "c8830cfe92ff289"
  },
  {
   "cell_type": "markdown",
   "source": [
    "We observe that almost all of these metrics (except for restaurant-walking_distance) are correlated with the house price. I will keep all of these metrics in the address part, as the could be relevant on a larger scale map or on different box boundaries of different cities/areas."
   ],
   "metadata": {
    "collapsed": false
   },
   "id": "86e536357a796825"
  },
  {
   "cell_type": "markdown",
   "id": "09a0e365",
   "metadata": {
    "id": "09a0e365"
   },
   "source": [
    "## Question 3. Addressing a Property Price Prediction Question\n",
    "\n",
    "For your final tick, we will be asking you to make house price predictions for a given location, date and property type in the UK. You will provide a function that takes input a latitude and longitude as well as the `property_type` (either type\" of property (either `F` - flat, `S` - semidetached, `D` - detached, `T` - terraced or `O` other). Create this function in the `address.py` file, for example in the form,\n",
    "\n",
    "```\n",
    "def predict_price(latitude, longitude, date, property_type):\n",
    "    \"\"\"Price prediction for UK housing.\"\"\"\n",
    "    pass\n",
    "```\n",
    "\n",
    "We suggest that you use the following approach when building your prediction.\n",
    "\n",
    "1. Select a bounding box around the housing location in latitude and longitude.\n",
    "2. Select a data range around the prediction date.\n",
    "3. Use the data ecosystem you have build above to build a training set from the relevant time period and location in the UK. Include appropriate features from OSM to improve the prediction.\n",
    "4. Train a linear model on the data set you have created.\n",
    "5. Validate the quality of the model.\n",
    "6. Provide a prediction of the price from the model, warning appropriately if your validation indicates the quality of the model is poor.\n",
    "\n",
    "Please note that the quality of predictions is not the main focus of the assignment - we expect to see models that output reasonable predictions and have positive R^2's, but you should not spend too much time on increasing the model's accuracy.\n",
    "\n",
    "The knowledge you need to do a first pass through this question will have been taught by end of lab session four (7th November 2023). You will likely want to review your answer as part of *refactoring* your code shortly before hand in.\n",
    "\n"
   ]
  },
  {
   "cell_type": "code",
   "execution_count": null,
   "id": "Si3K0A2zM7pa",
   "metadata": {
    "id": "Si3K0A2zM7pa"
   },
   "outputs": [],
   "source": []
  },
  {
   "cell_type": "markdown",
   "id": "eEDpLiW0Zr_L",
   "metadata": {
    "id": "eEDpLiW0Zr_L"
   },
   "source": [
    "## Large Language Models\n",
    "\n",
    "If you used LLMs to generate or fix code in this assignment (recommended), briefly summarise the process and prompts you used. What do you think of the integration of LLMs in the data science pipeline?"
   ]
  },
  {
   "cell_type": "markdown",
   "id": "osdBm1BNaHL1",
   "metadata": {
    "id": "osdBm1BNaHL1"
   },
   "source": [
    "```GIVE YOUR WRITTEN ANSWER HERE```"
   ]
  },
  {
   "cell_type": "markdown",
   "id": "DJDQPmkLldvp",
   "metadata": {
    "id": "DJDQPmkLldvp"
   },
   "source": [
    "### FAQs\n",
    "\n",
    "- Why is my connection to the AWS server intermittent?\n",
    "\n",
    "If you are using Google Colab, online notebooks may throttle your code or time you out. Local Python code is recommended for tasks for large data management in the database.\n",
    "\n",
    "- Why do SQL queries take a long time?\n",
    "\n",
    "Some queries legitimately take a long time, even when done right. We suggest indexing your tables to speed up queries over your database. You can index tables by different columns depending on the queries you want to perform. For example, indexing the tables by `postcode` could speed up the join in Task D. More information regarding indexing in MariaDB is available [here](https://mariadb.com/kb/en/getting-started-with-indexes/).\n",
    "\n",
    "You may also want to consider creating single or multi-column indices on coordinates, or any other properties you use to select data, if that step is taking a long time.\n",
    "\n",
    "If your new queries seem stuck, try running `SHOW FULL PROCESSLIST`, and `KILL` any stuck processes.\n",
    "\n",
    "- Why are table populating processes taking so long?\n",
    "\n",
    "Again populating the database can take long. However, be careful if you are indexing the tables. You should populate data before indexing. Insert operations are impacted by indexes as they are updated with each new row inserted into the table.\n",
    "\n",
    "- Some other questions are answered in [this reddit forum](https://www.reddit.com/r/CST_ADS/) or [this doc](https://docs.google.com/document/d/1GfDROyUW8HVs2eyxmJzKrYGRdVyUiVXzPcDfwOO8wX0/edit?usp=sharing). Feel free to also ask about anything that comes up."
   ]
  }
 ],
 "metadata": {
  "colab": {
   "provenance": []
  },
  "kernelspec": {
   "display_name": "Python 3 (ipykernel)",
   "language": "python",
   "name": "python3"
  },
  "language_info": {
   "codemirror_mode": {
    "name": "ipython",
    "version": 3
   },
   "file_extension": ".py",
   "mimetype": "text/x-python",
   "name": "python",
   "nbconvert_exporter": "python",
   "pygments_lexer": "ipython3",
   "version": "3.12.0"
  }
 },
 "nbformat": 4,
 "nbformat_minor": 5
}
