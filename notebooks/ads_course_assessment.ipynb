{
 "cells": [
  {
   "cell_type": "markdown",
   "id": "0b1e4a6f",
   "metadata": {
    "id": "0b1e4a6f"
   },
   "source": [
    "# Assessment for Advanced Data Science\n",
    "\n",
    "## Christian Cabrera, Radzim Sendyka, Carl Henrik Ek and Neil D. Lawrence\n",
    "\n",
    "### 6th November 2023\n",
    "\n"
   ]
  },
  {
   "cell_type": "markdown",
   "id": "d7856d1b",
   "metadata": {
    "id": "d7856d1b"
   },
   "source": [
    "Welcome to the course assessment for the Advanced Data Science unit. In this assessment you will build a prediction system for UK house prices.\n",
    "\n",
    "Your prediction system will be based on data from the UK Price Paid data available [here](https://www.gov.uk/government/statistical-data-sets/price-paid-data-downloads). By combining this data with the UK Office for National Statistics data on the latitude/longitude of postcodes (available [here](https://www.getthedata.com/open-postcode-geo)) you will have a record of house prices and their approximate latitude/longitude. Due to the size of these data you will use a relational database to handle them.  \n",
    "\n",
    "To make predictions of the house price you will augment your data with information obtained from Open Street Map: an open license source of mapping information. You will use the techniques you have learnt in the course to indentify and incorporate useful features for house price prediction.\n",
    "\n",
    "\n",
    "\n",
    "Alongside your implementation you will provide a short repository overview describing how you have implemented the different parts of the project and where you have placed those parts in your code repository. You will submit your code alongside a version of this notebook that will allow your examiner to understand and reconstruct the thinking behind your analysis. This notebook is structured to help you in creating that description and allow you to understand how we will allocate the marks. You should make use of the Fynesse framework (<https://github.com/lawrennd/fynesse_template>) for structuring your code.\n",
    "\n",
    "Remember the notebook you create should *tell a story*, any code that is not critical to that story can safely be placed into the associated analysis library and imported for use (structured as given in the Fynesse template)\n",
    "\n",
    "The maximum total mark for this assessment is 20. That mark is split into Three Questions below, each worth 5 marks each. Then a final 5 marks will be given for the quality, structure and reusability of the code and analysis you produce giving 20 marks in total. At the end, we would like to know your experience using LLMs in this assignment.\n",
    "\n",
    "### Important Note:\n",
    "\n",
    "*Some tasks in this assignment require you to develop skills for searching for multiple solutions and trying different things. This environment recreates industrial data science and software engineering problems. There is no one right answer.*\n"
   ]
  },
  {
   "cell_type": "markdown",
   "id": "bb7e7c53",
   "metadata": {
    "id": "bb7e7c53"
   },
   "source": [
    "### Useful Links\n",
    "\n",
    "You may find some of the following links useful when building your system.\n",
    "\n",
    "University instuctions on Security and Privacy with AWS.\n",
    "\n",
    "https://help.uis.cam.ac.uk/service/network-services/hosting-services/AWS/aws-security-privacy\n",
    "\n",
    "Security Rules in AWS\n",
    "\n",
    "https://docs.aws.amazon.com/AmazonRDS/latest/UserGuide/USER_VPC.Scenarios.html#USER_VPC.Scenario4"
   ]
  },
  {
   "cell_type": "markdown",
   "id": "9d3ee6ce",
   "metadata": {
    "id": "9d3ee6ce"
   },
   "source": [
    "### Installing Your Library\n",
    "\n",
    "One artefact to be included in your submission is a python library structured according to the \"Access, Assess, Address\" standard for data science solutions. You will submit this library alongside your code. Use the cell below to perform the necessary installation instructions for your library.\n",
    "\n",
    "You should base your module on the template repository given by the Fynesse template repository. That should make it `pip` installable as below.\n",
    "\n"
   ]
  },
  {
   "cell_type": "code",
   "execution_count": null,
   "id": "13f71cb7",
   "metadata": {
    "id": "13f71cb7"
   },
   "outputs": [],
   "source": [
    "# Install your library here, for example the fynesse template\n",
    "# is set up to be pip installable\n",
    "\n",
    "# TODO: use this when done implementing the functionalities of the library\n",
    "# %pip install git+https://github.com/lawrennd/fynesse_template.git"
   ]
  },
  {
   "cell_type": "markdown",
   "id": "c2fafca0",
   "metadata": {
    "id": "c2fafca0"
   },
   "source": [
    "Your own library should be installed in the line above, then you can import it as usual (where you can either replace `fynesse` with the name you've given your analysis module or you can leave the name as `fynesse` as you prefer)."
   ]
  },
  {
   "cell_type": "code",
   "execution_count": 14,
   "id": "db162b53",
   "metadata": {
    "id": "db162b53",
    "ExecuteTime": {
     "end_time": "2023-11-26T20:35:34.637121Z",
     "start_time": "2023-11-26T20:35:34.633297Z"
    }
   },
   "outputs": [],
   "source": [
    "import sys\n",
    "sys.path.append(\"~/Work/part2/ads/advds/fynesse\")\n",
    "from fynesse.access import *"
   ]
  },
  {
   "cell_type": "markdown",
   "id": "26533cf6",
   "metadata": {
    "id": "26533cf6"
   },
   "source": [
    "## Question 1. Accessing a Database of House Prices, Latitudes and Longitudes\n",
    "\n",
    "The UK price paid data for housing dates back to 1995 and contains millions of transactions. The size of the data makes it unwieldy to manipulate directly in python frameworks such as `pandas`. As a result we will host the data in a *relational database*.\n",
    "\n",
    "Using the following ideas.\n",
    "\n",
    "1. A cloud hosted database (such as MariaDB hosted on the AWS RDS service).\n",
    "2. The SQL language wrapped in appropriately structured python code.\n",
    "3. Joining of two databases.\n",
    "\n",
    "You will construct a database containing tables that contain all house prices, latitudes and longitudes from the UK house price data base since 1995.\n",
    "\n",
    "You will likely find the following resources helpful.\n",
    "\n",
    "1. Lecture 1, 2 and 3.\n",
    "2. Lab class 1 and 2.\n",
    "3. The UK Price Paid data for houses: <https://www.gov.uk/government/statistical-data-sets/price-paid-data-downloads>\n",
    "4. The UK ONS Data base of postcode latitude and longitudes:  <https://www.getthedata.com/open-postcode-geo>\n",
    "\n",
    "Below we provide codeboxes and hints to help you develop your answer.\n",
    "\n",
    "### Important Notes:\n",
    "\n",
    "*The main knowledge you need to do a first pass through this question will have been taught by the end of Lab Session 2 (31st October 2023). You will likely want to review your answer as part of **refactoring** your code  and analysis pipeline shortly before hand in.*\n",
    "\n",
    "*We recommend doing Question 1 as early as possible to avoid being blocked from important work given that uploading the data can take long.*\n",
    "\n",
    "*If you encounter problems with the online notebook (e.g., interrupted connections with the AWS server), you can use a local IDE to work in your machine.*\n",
    "\n",
    "*5 Marks*"
   ]
  },
  {
   "cell_type": "code",
   "execution_count": 129,
   "outputs": [],
   "source": [
    "import pymysql\n",
    "\n",
    "\n",
    "class DatabaseCreationException(Exception):\n",
    "    def __init__(self, message):\n",
    "        super().__init__(message)\n",
    "\n",
    "\n",
    "class DatabaseConnectionException(Exception):\n",
    "    def __init__(self, message):\n",
    "        super().__init__(message)\n",
    "\n",
    "\n",
    "def create_property_prices_database(host, port, username, password):\n",
    "    conn = pymysql.connect(\n",
    "        host=host,\n",
    "        port=port,\n",
    "        user=username,\n",
    "        password=password\n",
    "    )\n",
    "    conn.cursor().execute(\"CREATE DATABASE IF NOT EXISTS `property_prices`\")\n",
    "\n",
    "\n",
    "def create_property_prices_db_connection(host, port, username, password):\n",
    "    conn = pymysql.connect(\n",
    "        host=host,\n",
    "        port=port,\n",
    "        user=username,\n",
    "        password=password,\n",
    "        database=\"property_prices\",\n",
    "        local_infile=1\n",
    "    )\n",
    "    return conn\n",
    "\n",
    "\n",
    "def create_and_populate_pp_data_table(conn):\n",
    "    create_pp_data_table(conn)\n",
    "    populate_pp_data_table(conn)\n",
    "\n",
    "\n",
    "def create_pp_data_table(conn):\n",
    "    conn.cursor().execute(\"\"\"\n",
    "        -- Table structure for table `pp_data`\n",
    "        DROP TABLE IF EXISTS `pp_data`;\n",
    "    \"\"\")\n",
    "    conn.cursor().execute(\"\"\"\n",
    "        CREATE TABLE IF NOT EXISTS `pp_data` (\n",
    "          `transaction_unique_identifier` tinytext COLLATE utf8_bin NOT NULL,\n",
    "          `price` int(10) unsigned NOT NULL,\n",
    "          `date_of_transfer` date NOT NULL,\n",
    "          `postcode` varchar(8) COLLATE utf8_bin NOT NULL,\n",
    "          `property_type` varchar(1) COLLATE utf8_bin NOT NULL,\n",
    "          `new_build_flag` varchar(1) COLLATE utf8_bin NOT NULL,\n",
    "          `tenure_type` varchar(1) COLLATE utf8_bin NOT NULL,\n",
    "          `primary_addressable_object_name` tinytext COLLATE utf8_bin NOT NULL,\n",
    "          `secondary_addressable_object_name` tinytext COLLATE utf8_bin NOT NULL,\n",
    "          `street` tinytext COLLATE utf8_bin NOT NULL,\n",
    "          `locality` tinytext COLLATE utf8_bin NOT NULL,\n",
    "          `town_city` tinytext COLLATE utf8_bin NOT NULL,\n",
    "          `district` tinytext COLLATE utf8_bin NOT NULL,\n",
    "          `county` tinytext COLLATE utf8_bin NOT NULL,\n",
    "          `ppd_category_type` varchar(2) COLLATE utf8_bin NOT NULL,\n",
    "          `record_status` varchar(2) COLLATE utf8_bin NOT NULL,\n",
    "          `db_id` bigint(20) unsigned NOT NULL\n",
    "        ) DEFAULT CHARSET=utf8 COLLATE=utf8_bin AUTO_INCREMENT=1 ;\n",
    "    \"\"\")\n",
    "    conn.cursor().execute(\"\"\"\n",
    "        -- Primary key for table `pp_data` \n",
    "        ALTER TABLE `pp_data`\n",
    "        ADD PRIMARY KEY (`db_id`);\n",
    "    \"\"\")\n",
    "    conn.cursor().execute(\"\"\"\n",
    "        ALTER TABLE `pp_data`\n",
    "        MODIFY db_id bigint(20) unsigned NOT NULL AUTO_INCREMENT, AUTO_INCREMENT=1;\n",
    "    \"\"\")\n",
    "\n",
    "\n",
    "def populate_pp_data_table(conn):\n",
    "    conn.cursor().execute(\"\"\"\n",
    "        LOAD DATA LOCAL INFILE 'pp-complete.csv' INTO TABLE pp_data\n",
    "        FIELDS TERMINATED BY ',' OPTIONALLY ENCLOSED by '\"'\n",
    "        LINES STARTING BY '' TERMINATED BY '\\n';\n",
    "    \"\"\")\n",
    "\n",
    "\n",
    "def create_column_index_on_pp_data_table(conn, column_name):\n",
    "    index_column_name = \"pp.\" + column_name\n",
    "\n",
    "    conn.cursor().execute(f\"\"\"\n",
    "        DROP INDEX IF EXISTS `{index_column_name}` ON `pp_data`\n",
    "    \"\"\")\n",
    "    conn.cursor().execute(f\"\"\"\n",
    "        CREATE INDEX IF NOT EXISTS `{index_column_name}` USING HASH\n",
    "        ON `pp_data` ({column_name})\n",
    "    \"\"\")\n",
    "\n",
    "\n",
    "\n",
    "class PostcodeDataTable:\n",
    "    _conn = None\n",
    "\n",
    "    def __init__(self, property_prices_db: PropertyPricesDbConnector):\n",
    "        self._conn = property_prices_db.get_conn()\n",
    "        self._create_table()\n",
    "        self._populate_table()\n",
    "\n",
    "    def _create_table(self):\n",
    "        try:\n",
    "            self._conn.cursor().execute(\"\"\"\n",
    "                -- Table structure for table `postcode_data`\n",
    "                DROP TABLE IF EXISTS `postcode_data`;\n",
    "            \"\"\")\n",
    "            self._conn.cursor().execute(\"\"\"\n",
    "                CREATE TABLE IF NOT EXISTS `postcode_data` (\n",
    "                  `postcode` varchar(8) COLLATE utf8_bin NOT NULL,\n",
    "                  `status` enum('live','terminated') NOT NULL,\n",
    "                  `usertype` enum('small', 'large') NOT NULL,\n",
    "                  `easting` int unsigned,\n",
    "                  `northing` int unsigned,\n",
    "                  `positional_quality_indicator` int NOT NULL,\n",
    "                  `country` enum('England', 'Wales', 'Scotland', 'Northern Ireland', 'Channel Islands', 'Isle of Man') NOT NULL,\n",
    "                  `latitude` decimal(11,8) NOT NULL,\n",
    "                  `longitude` decimal(10,8) NOT NULL,\n",
    "                  `postcode_no_space` tinytext COLLATE utf8_bin NOT NULL,\n",
    "                  `postcode_fixed_width_seven` varchar(7) COLLATE utf8_bin NOT NULL,\n",
    "                  `postcode_fixed_width_eight` varchar(8) COLLATE utf8_bin NOT NULL,\n",
    "                  `postcode_area` varchar(2) COLLATE utf8_bin NOT NULL,\n",
    "                  `postcode_district` varchar(4) COLLATE utf8_bin NOT NULL,\n",
    "                  `postcode_sector` varchar(6) COLLATE utf8_bin NOT NULL,\n",
    "                  `outcode` varchar(4) COLLATE utf8_bin NOT NULL,\n",
    "                  `incode` varchar(3)  COLLATE utf8_bin NOT NULL,\n",
    "                  `db_id` bigint(20) unsigned NOT NULL\n",
    "                ) DEFAULT CHARSET=utf8 COLLATE=utf8_bin;\n",
    "            \"\"\")\n",
    "            self._conn.cursor().execute(\"\"\"\n",
    "                ALTER TABLE `postcode_data`\n",
    "                ADD PRIMARY KEY (`db_id`);\n",
    "            \"\"\")\n",
    "            self._conn.cursor().execute(\"\"\"\n",
    "                ALTER TABLE `postcode_data`\n",
    "                MODIFY `db_id` bigint(20) unsigned NOT NULL AUTO_INCREMENT,AUTO_INCREMENT=1;\n",
    "            \"\"\")\n",
    "        except Exception as e:\n",
    "            print(\"Could not create `postcode_data` table on the database server - {}\".format(e))\n",
    "\n",
    "    def _populate_table(self):\n",
    "        try:\n",
    "            self._conn.cursor().execute(\"\"\"\n",
    "                LOAD DATA LOCAL INFILE 'open_postcode_geo.csv' INTO TABLE `postcode_data`\n",
    "                FIELDS TERMINATED BY ',' OPTIONALLY ENCLOSED by '\"'\n",
    "                LINES STARTING BY '' TERMINATED BY '\\n';\n",
    "            \"\"\")\n",
    "        except Exception as e:\n",
    "            print(\"Could not upload data to `postcode_data` table from local file - {}\".format(e))\n",
    "\n",
    "    def get_number_of_rows(self):\n",
    "        cur = self._conn.cursor()\n",
    "        cur.execute(\"\"\"\n",
    "            SELECT COUNT(*) as row_count\n",
    "            FROM postcode_data\n",
    "        \"\"\")\n",
    "        return cur.fetchall()\n",
    "\n",
    "    def create_index_on_column(self, column_name):\n",
    "        index_column_name = \"pd.\" + column_name\n",
    "        try:\n",
    "            self._conn.cursor().execute(f\"\"\"\n",
    "                DROP INDEX IF EXISTS `{index_column_name}` ON `postcode_data`\n",
    "            \"\"\")\n",
    "            self._conn.cursor().execute(f\"\"\"\n",
    "                CREATE INDEX IF NOT EXISTS `{index_column_name}` USING HASH\n",
    "                ON `postcode_data` ({column_name})\n",
    "            \"\"\")\n",
    "        except Exception as e:\n",
    "            print(\"Could not create index from column {} on table postcode_data - {}\".format(column_name, e))\n",
    "\n",
    "\n",
    "class PricesCoordinatesDataTable:\n",
    "    _conn = None\n",
    "\n",
    "    def __init__(self, property_prices_db: PropertyPricesDbConnector):\n",
    "        self._conn = property_prices_db.get_conn()\n",
    "        self._create_table()\n",
    "        self._populate_table()\n",
    "\n",
    "    def _create_table(self):\n",
    "        try:\n",
    "            self._conn.cursor().execute(\"\"\"\n",
    "                DROP TABLE IF EXISTS `prices_coordinates_data`;\n",
    "            \"\"\")\n",
    "            self._conn.cursor().execute(\"\"\"\n",
    "                CREATE TABLE IF NOT EXISTS `prices_coordinates_data` (\n",
    "                  `price` int(10) unsigned NOT NULL,\n",
    "                  `date_of_transfer` date NOT NULL,\n",
    "                  `postcode` varchar(8) COLLATE utf8_bin NOT NULL,\n",
    "                  `property_type` varchar(1) COLLATE utf8_bin NOT NULL,\n",
    "                  `new_build_flag` varchar(1) COLLATE utf8_bin NOT NULL,\n",
    "                  `tenure_type` varchar(1) COLLATE utf8_bin NOT NULL,\n",
    "                  `locality` tinytext COLLATE utf8_bin NOT NULL,\n",
    "                  `town_city` tinytext COLLATE utf8_bin NOT NULL,\n",
    "                  `district` tinytext COLLATE utf8_bin NOT NULL,\n",
    "                  `county` tinytext COLLATE utf8_bin NOT NULL,\n",
    "                  `country` enum('England', 'Wales', 'Scotland', 'Northern Ireland', 'Channel Islands', 'Isle of Man') NOT NULL,\n",
    "                  `latitude` decimal(11,8) NOT NULL,\n",
    "                  `longitude` decimal(10,8) NOT NULL,\n",
    "                  `db_id` bigint(20) unsigned NOT NULL\n",
    "                ) DEFAULT CHARSET=utf8 COLLATE=utf8_bin AUTO_INCREMENT=1 ;\n",
    "            \"\"\")\n",
    "            self._conn.cursor().execute(\"\"\"\n",
    "                ALTER TABLE `prices_coordinates_data`\n",
    "                ADD PRIMARY KEY (`db_id`);\n",
    "            \"\"\")\n",
    "            self._conn.cursor().execute(\"\"\"\n",
    "                ALTER TABLE `prices_coordinates_data`\n",
    "                MODIFY `db_id` bigint(20) unsigned NOT NULL AUTO_INCREMENT,AUTO_INCREMENT=1;\n",
    "            \"\"\")\n",
    "        except Exception as e:\n",
    "            print(\"Could not create `prices_coordinates_data` table on the database server - {}\".format(e))\n",
    "\n",
    "    def _populate_table(self):\n",
    "        try:\n",
    "            self._conn.cursor().execute(\"\"\"\n",
    "                INSERT INTO `prices_coordinates_data` (\n",
    "                    `price`,\n",
    "                    `date_of_transfer`,\n",
    "                    `postcode`,\n",
    "                    `property_type`,\n",
    "                    `new_build_flag`,\n",
    "                    `tenure_type`,\n",
    "                    `locality`,\n",
    "                    `town_city`,\n",
    "                    `district`,\n",
    "                    `county`,\n",
    "                    `country`,\n",
    "                    `latitude`,\n",
    "                    `longitude`\n",
    "                )\n",
    "                SELECT pd.price, pd.data_of_transfer, pd.postcode, pd.property_type, pd.new_build_flag, pd.tenure_type, pd.locality, pd.town_city, pd.district, pd.country, pcd.country, pcd.latitude, pcd.longitude\n",
    "                FROM\n",
    "                    (\n",
    "                        SELECT price, data_of_transfer, postcode, property_type, new_build_flag, tenure_type, locality, town_city, district, country\n",
    "                        FROM pp_data \n",
    "                    ) pd\n",
    "                INNER JOIN\n",
    "                    (\n",
    "                        SELECT postcode, country, latitude, longitude\n",
    "                        FROM postcode_data\n",
    "                    ) pcd\n",
    "                ON pd.postcode = pcd.postcode\n",
    "            \"\"\")\n",
    "        except Exception as e:\n",
    "            print(\"Could not populate `prices_coordinates_data` table from joining pp_data and postcode_data - {}\".format(e))\n",
    "\n",
    "    def get_number_of_rows(self):\n",
    "        cur = self._conn.cursor()\n",
    "        cur.execute(\"\"\"\n",
    "            SELECT COUNT(*) as row_count\n",
    "            FROM prices_coordinates_data\n",
    "        \"\"\")\n",
    "        return cur.fetchall()\n",
    "\n",
    "    def create_index_on_column(self, column_name):\n",
    "        index_column_name = \"pcd.\" + column_name\n",
    "        try:\n",
    "            self._conn.cursor().execute(f\"\"\"\n",
    "                DROP INDEX IF EXISTS `{index_column_name}` ON `prices_coordinates_data`\n",
    "            \"\"\")\n",
    "            self._conn.cursor().execute(f\"\"\"\n",
    "                CREATE INDEX IF NOT EXISTS `{index_column_name}` USING HASH\n",
    "                ON `prices_coordinates_data` ({column_name})\n",
    "            \"\"\")\n",
    "        except Exception as e:\n",
    "            print(\"Could not create index from column {} on table prices_coordinates_data - {}\".format(column_name, e))\n"
   ],
   "metadata": {
    "collapsed": false,
    "ExecuteTime": {
     "end_time": "2023-11-27T02:42:22.672297Z",
     "start_time": "2023-11-27T02:42:22.669844Z"
    }
   },
   "id": "da76645073d14c9c"
  },
  {
   "cell_type": "markdown",
   "id": "fd689312",
   "metadata": {
    "id": "fd689312"
   },
   "source": [
    "### Task A\n",
    "\n",
    "Set up the database. You'll need to set up a database on AWS. You were guided in how to do this in the lab sessions. You should be able to use the same database instance you created in the lab, or you can delete that and start with a fresh instance. You'll remember from the lab that the database requires credentials (username, password) to access. It's good practice to store those credentials *outside* the notebook so you don't accidentally share them by e.g. checking code into a repository.\n",
    "  \n",
    "Call the database you use for this assessment `property_prices`.\n",
    "  "
   ]
  },
  {
   "cell_type": "code",
   "execution_count": null,
   "id": "feaf09b9",
   "metadata": {
    "id": "feaf09b9"
   },
   "outputs": [],
   "source": [
    "# Write code for requesting and storing credentials (username, password) here.\n",
    "import yaml\n",
    "from ipywidgets import interact_manual, Text, Password\n",
    "\n",
    "@interact_manual(username=Text(description=\"Username:\"), password=Password(description=\"Password:\"))\n",
    "def store_credentials(username, password):\n",
    "    with open(\"credentials.yaml\", \"w\") as file:\n",
    "        credentials_dict = {'username': username,\n",
    "                            'password': password}\n",
    "        yaml.dump(credentials_dict, file)"
   ]
  },
  {
   "cell_type": "code",
   "execution_count": 130,
   "id": "036c419d",
   "metadata": {
    "id": "036c419d",
    "ExecuteTime": {
     "end_time": "2023-11-27T02:42:32.909951Z",
     "start_time": "2023-11-27T02:42:32.742433Z"
    }
   },
   "outputs": [],
   "source": [
    "import yaml\n",
    "import fynesse.access\n",
    "# from fynesse.access.PropertyPricesDbConnector import PropertyPricesDbConnector\n",
    "\n",
    "# Write any other setup code you need for setting up database access here.\n",
    "\n",
    "database_details = {\n",
    "    \"url\": \"database-ads-sap86.cgrre17yxw11.eu-west-2.rds.amazonaws.com\",\n",
    "    \"port\": 3306\n",
    "}\n",
    "\n",
    "with open(\"credentials.yaml\") as f:\n",
    "    credentials = yaml.safe_load(f)\n",
    "\n",
    "username = credentials[\"username\"]\n",
    "password = credentials[\"password\"]\n",
    "host = database_details[\"url\"]\n",
    "port = database_details[\"port\"]\n",
    "\n",
    "property_prices_db = PropertyPricesDbConnector(host, port, username, password)"
   ]
  },
  {
   "cell_type": "markdown",
   "id": "33c7237f",
   "metadata": {
    "id": "33c7237f"
   },
   "source": [
    "### Task B\n",
    "\n",
    "Create a database table called `pp_data` containing all the UK Price Paid data from the [gov.uk site](https://www.gov.uk/government/statistical-data-sets/price-paid-data-downloads). You'll need to prepare a new table to receive the data and upload the UK Price Paid data to your database instance. The total data is over 3 gigabytes in size. We suggest that rather than downloading the full data in CSV format, you use the fact that they have split the data into years and into different parts per year. For example, the first part of the data for 2018 is stored at <http://prod.publicdata.landregistry.gov.uk.s3-website-eu-west-1.amazonaws.com/pp-2018-part1.csv>. Each of these files is less than 100MB and can be downloaded very quickly to local disk, then uploaded using\n",
    "\n",
    "\n",
    "```\n",
    "LOAD DATA LOCAL INFILE 'filename' INTO TABLE `table_name`\n",
    "FIELDS TERMINATED BY ',' OPTIONALLY ENCLOSED by '\"'\n",
    "LINES STARTING BY '' TERMINATED BY '\\n';\n",
    "```\n",
    "*Note* this command should be wrapped and placed in an appropriately structured python module.\n",
    "\n",
    "Each 'data part' should be downloadable from the `gov.uk` site. It should take around 5 minutes to download the whole dataset. By looping across the years and different parts, you should be able to robustly upload this large data set to your database instance in around 15 minutes. You should get a table with 28'258,161 rows. ***Note: A select count of the table can take more than half an hour.***\n",
    "\n",
    "You may find the following schema useful in the creation of your table:\n",
    "\n",
    "```\n",
    "--\n",
    "-- Table structure for table `pp_data`\n",
    "--\n",
    "DROP TABLE IF EXISTS `pp_data`;\n",
    "CREATE TABLE IF NOT EXISTS `pp_data` (\n",
    "  `transaction_unique_identifier` tinytext COLLATE utf8_bin NOT NULL,\n",
    "  `price` int(10) unsigned NOT NULL,\n",
    "  `date_of_transfer` date NOT NULL,\n",
    "  `postcode` varchar(8) COLLATE utf8_bin NOT NULL,\n",
    "  `property_type` varchar(1) COLLATE utf8_bin NOT NULL,\n",
    "  `new_build_flag` varchar(1) COLLATE utf8_bin NOT NULL,\n",
    "  `tenure_type` varchar(1) COLLATE utf8_bin NOT NULL,\n",
    "  `primary_addressable_object_name` tinytext COLLATE utf8_bin NOT NULL,\n",
    "  `secondary_addressable_object_name` tinytext COLLATE utf8_bin NOT NULL,\n",
    "  `street` tinytext COLLATE utf8_bin NOT NULL,\n",
    "  `locality` tinytext COLLATE utf8_bin NOT NULL,\n",
    "  `town_city` tinytext COLLATE utf8_bin NOT NULL,\n",
    "  `district` tinytext COLLATE utf8_bin NOT NULL,\n",
    "  `county` tinytext COLLATE utf8_bin NOT NULL,\n",
    "  `ppd_category_type` varchar(2) COLLATE utf8_bin NOT NULL,\n",
    "  `record_status` varchar(2) COLLATE utf8_bin NOT NULL,\n",
    "  `db_id` bigint(20) unsigned NOT NULL\n",
    ") DEFAULT CHARSET=utf8 COLLATE=utf8_bin AUTO_INCREMENT=1 ;\n",
    "```\n",
    "This schema is written by Dale Potter and can be found on Github here: <https://github.com/dalepotter/uk_property_price_data/blob/master/create_db.sql>\n",
    "\n",
    "You may also find it helpful to set up the following primary key to the `pp_data` table. This should be done before uploading your data.\n",
    "\n",
    "```\n",
    "--\n",
    "-- Primary key for table `pp_data`\n",
    "--\n",
    "ALTER TABLE `pp_data`\n",
    "ADD PRIMARY KEY (`db_id`);\n",
    "\n",
    "ALTER TABLE `pp_data`\n",
    "MODIFY db_id bigint(20) unsigned NOT NULL AUTO_INCREMENT, AUTO_INCREMENT=1;\n",
    "```"
   ]
  },
  {
   "cell_type": "markdown",
   "id": "e789b174",
   "metadata": {
    "id": "e789b174"
   },
   "source": [
    "In the box below, briefly describe what the schema is doing."
   ]
  },
  {
   "cell_type": "markdown",
   "id": "d7d9d674",
   "metadata": {
    "id": "d7d9d674"
   },
   "source": [
    "The schema is used to create a fresh instance of our required pp_data table.\n",
    "* It firstly makes sure that any previous instantiation of pp_data is deleted.\n",
    "* Secondly, it creates a new instance of the table by specifying the columns/fields and their associated types that can be found in the table. It is worth nothing that the column names are carefully chosen such that they match the columns from the downloaded CSV file.\n",
    "* This one must be deleted from here and moved below. Thirdly, the extended schema also generates indexes  on ```date_of_transfer``` and on ```postcode```, making queries and joins faster in the later stages of our fynesse framework faster for those using them, improving execution speeds. Without these indexes, queries could take a lot of time, based on the size of the table."
   ]
  },
  {
   "cell_type": "code",
   "execution_count": 132,
   "id": "92da8c96",
   "metadata": {
    "id": "92da8c96",
    "ExecuteTime": {
     "end_time": "2023-11-27T03:10:29.532904Z",
     "start_time": "2023-11-27T02:55:40.308646Z"
    }
   },
   "outputs": [],
   "source": [
    "# Write the code you need for creating the table, downloading and uploading the data here. You can use as many code blocks as you need.\n",
    "\n",
    "pp_data_table = PpDataTable(property_prices_db)"
   ]
  },
  {
   "cell_type": "markdown",
   "id": "bb9ece66",
   "metadata": {
    "id": "bb9ece66"
   },
   "source": [
    "### Task C\n",
    "\n",
    "Create a database table called `postcode_data` containing the ONS Postcode information. <GetTheData.com> has organised data derived from the UK Office for National Statistics into a convenient CSV file. You can find details [here](https://www.getthedata.com/open-postcode-geo).\n",
    "\n",
    "\n",
    "The data you need can be found at this url: <https://www.getthedata.com/downloads/open_postcode_geo.csv.zip>. It will need to be unzipped before use. Downloading and unzipping the data should not take more than 10 seconds.\n",
    "\n",
    "You may find the following schema useful for the postcode data (developed by Christian and Neil)\n",
    "\n",
    "```\n",
    "USE `property_prices`;\n",
    "--\n",
    "-- Table structure for table `postcode_data`\n",
    "--\n",
    "DROP TABLE IF EXISTS `postcode_data`;\n",
    "CREATE TABLE IF NOT EXISTS `postcode_data` (\n",
    "  `postcode` varchar(8) COLLATE utf8_bin NOT NULL,\n",
    "  `status` enum('live','terminated') NOT NULL,\n",
    "  `usertype` enum('small', 'large') NOT NULL,\n",
    "  `easting` int unsigned,\n",
    "  `northing` int unsigned,\n",
    "  `positional_quality_indicator` int NOT NULL,\n",
    "  `country` enum('England', 'Wales', 'Scotland', 'Northern Ireland', 'Channel Islands', 'Isle of Man') NOT NULL,\n",
    "  `latitude` decimal(11,8) NOT NULL,\n",
    "  `longitude` decimal(10,8) NOT NULL,\n",
    "  `postcode_no_space` tinytext COLLATE utf8_bin NOT NULL,\n",
    "  `postcode_fixed_width_seven` varchar(7) COLLATE utf8_bin NOT NULL,\n",
    "  `postcode_fixed_width_eight` varchar(8) COLLATE utf8_bin NOT NULL,\n",
    "  `postcode_area` varchar(2) COLLATE utf8_bin NOT NULL,\n",
    "  `postcode_district` varchar(4) COLLATE utf8_bin NOT NULL,\n",
    "  `postcode_sector` varchar(6) COLLATE utf8_bin NOT NULL,\n",
    "  `outcode` varchar(4) COLLATE utf8_bin NOT NULL,\n",
    "  `incode` varchar(3)  COLLATE utf8_bin NOT NULL,\n",
    "  `db_id` bigint(20) unsigned NOT NULL\n",
    ") DEFAULT CHARSET=utf8 COLLATE=utf8_bin;\n",
    "```\n",
    "\n",
    "And again you'll want to set up a primary key for the new table.\n",
    "\n",
    "```\n",
    "ALTER TABLE `postcode_data`\n",
    "ADD PRIMARY KEY (`db_id`);\n",
    "\n",
    "ALTER TABLE `postcode_data`\n",
    "MODIFY `db_id` bigint(20) unsigned NOT NULL AUTO_INCREMENT,AUTO_INCREMENT=1;\n",
    "```\n",
    "\n",
    "And you can load the CSV file into the table using this command.\n",
    "\n",
    "```\n",
    "LOAD DATA LOCAL INFILE 'open_postcode_geo.csv' INTO TABLE `postcode_data`\n",
    "FIELDS TERMINATED BY ',' OPTIONALLY ENCLOSED by '\"'\n",
    "LINES STARTING BY '' TERMINATED BY '\\n';\n",
    "```"
   ]
  },
  {
   "cell_type": "code",
   "execution_count": 133,
   "outputs": [],
   "source": [
    "postcode_data_table = PostcodeDataTable(property_prices_db)"
   ],
   "metadata": {
    "collapsed": false,
    "ExecuteTime": {
     "end_time": "2023-11-27T03:22:16.434497Z",
     "start_time": "2023-11-27T03:20:18.874366Z"
    }
   },
   "id": "9a3043006d1686a7"
  },
  {
   "cell_type": "markdown",
   "id": "d67ca4ef",
   "metadata": {
    "id": "d67ca4ef"
   },
   "source": [
    "### Task D\n",
    "\n",
    "This table should contain the house price paid and the latitude and longitude of the house. We could create a new data frame that contains all this information. However, the computation of that data frame would take some time because of the size of the two existing tables in the join. Whether this is a good idea or not in a live system will depend on how often these predictions are required. If it's very often, it would be better to store the join as a new table in the database, because the one-off cost for that join is amortised across all the future predictions. If only a few predictions are required (like in our lab class) then doing that join on the fly might be better.\n",
    "\n",
    "- Option A: Think about which columns from each table will be useful to you in making predictions, then write code to efficiently select this information and create a data frame from the two tables for a set of properties. \"Join on the fly\". This option looks easier but the disadvantage is the extra latency it adds as joins are performed every time we need to answer data questions. These latencies are usually not accepted in production environments.\n",
    "\n",
    "- Option B: Alternatively, you can create a database table called `property_prices` to store the join of the tables you created in the previous tasks. The advantage of this approach is that you will get faster responses because the join is performed once. The disadvantage is that populating the new table can take a long time because you would join two big tables. You need to be more creative with this option. Remember that you can divide your dataset by different criteria (e.g., by year) and that loading data from files is much faster than `INSERT INTO` instructions. Populating the table took from 4 to 6 minutes per year in our tests on a Dell Laptop Intel Core i5 with 16GB of RAM and using the Eduroam network at the Computer Lab. Populating the table by year also gives you control over the upload process. You could write your code in a way you can stop and restart the upload process. The new table could have a schema like the one below:\n",
    "\n",
    "  ```\n",
    "  USE `property_prices`;\n",
    "  --\n",
    "  -- Table structure for table `prices_coordinates_data`\n",
    "  --\n",
    "  DROP TABLE IF EXISTS `prices_coordinates_data`;\n",
    "  CREATE TABLE IF NOT EXISTS `prices_coordinates_data` (\n",
    "    `price` int(10) unsigned NOT NULL,\n",
    "    `date_of_transfer` date NOT NULL,\n",
    "    `postcode` varchar(8) COLLATE utf8_bin NOT NULL,\n",
    "    `property_type` varchar(1) COLLATE utf8_bin NOT NULL,\n",
    "    `new_build_flag` varchar(1) COLLATE utf8_bin NOT NULL,\n",
    "    `tenure_type` varchar(1) COLLATE utf8_bin NOT NULL,\n",
    "    `locality` tinytext COLLATE utf8_bin NOT NULL,\n",
    "    `town_city` tinytext COLLATE utf8_bin NOT NULL,\n",
    "    `district` tinytext COLLATE utf8_bin NOT NULL,\n",
    "    `county` tinytext COLLATE utf8_bin NOT NULL,\n",
    "    `country` enum('England', 'Wales', 'Scotland', 'Northern Ireland', 'Channel Islands', 'Isle of Man') NOT NULL,\n",
    "    `latitude` decimal(11,8) NOT NULL,\n",
    "    `longitude` decimal(10,8) NOT NULL,\n",
    "    `db_id` bigint(20) unsigned NOT NULL\n",
    "  ) DEFAULT CHARSET=utf8 COLLATE=utf8_bin AUTO_INCREMENT=1 ;\n",
    "\n",
    "  ```\n",
    "\n",
    "In both cases you will need to perform a join between `pp_data` and `postcode_data` tables. Joining large tables without the right indexes in place will take a long time. You should think and set the right index for an efficient join. Indexing the `pp_data` table should take less than 5 minutes, while it takes less than one minute to index the `postcode_data` table.\n",
    "\n",
    "Note that there is no preference for either approach in the mark scheme.\n",
    "\n",
    "You should use the joined data in your prediction model in Question 3. Exploit the nature of the task to use prices for a particular region in a given period. This means we can select the relevant rows from the database according to that region and period.\n",
    "\n",
    "***After you have populated your database tables and created the functions to access the data you need for Question 3, you will not need to redo any of the previous steps. If at some point you find the AWS database is not responding or taking longer than expected to perform operations, you can have a look at the process list and kill the one are causing problems. If killing the processes does not work, you should reboot the database in the AWS console. Be careful with other database instances if you need to reboot your database. Also, be careful not to delete the database instead of rebooting it. If you delete the database, it is likely you will need to redo all Question 1.***"
   ]
  },
  {
   "cell_type": "code",
   "execution_count": 134,
   "id": "Y-lttyzUtSv7",
   "metadata": {
    "id": "Y-lttyzUtSv7",
    "ExecuteTime": {
     "end_time": "2023-11-27T03:31:31.460001Z",
     "start_time": "2023-11-27T03:22:53.198426Z"
    }
   },
   "outputs": [
    {
     "ename": "KeyboardInterrupt",
     "evalue": "",
     "output_type": "error",
     "traceback": [
      "\u001B[0;31m---------------------------------------------------------------------------\u001B[0m",
      "\u001B[0;31mKeyboardInterrupt\u001B[0m                         Traceback (most recent call last)",
      "Cell \u001B[0;32mIn[134], line 2\u001B[0m\n\u001B[1;32m      1\u001B[0m \u001B[38;5;66;03m# Write the code you used to join the tables, or the code you used to join on the fly.\u001B[39;00m\n\u001B[0;32m----> 2\u001B[0m \u001B[43mpp_data_table\u001B[49m\u001B[38;5;241;43m.\u001B[39;49m\u001B[43mcreate_index_on_column\u001B[49m\u001B[43m(\u001B[49m\u001B[38;5;124;43m\"\u001B[39;49m\u001B[38;5;124;43mpostcode\u001B[39;49m\u001B[38;5;124;43m\"\u001B[39;49m\u001B[43m)\u001B[49m\n\u001B[1;32m      3\u001B[0m postcode_data_table\u001B[38;5;241m.\u001B[39mcreate_index_on_column(\u001B[38;5;124m\"\u001B[39m\u001B[38;5;124mpostcode\u001B[39m\u001B[38;5;124m\"\u001B[39m)\n",
      "Cell \u001B[0;32mIn[129], line 135\u001B[0m, in \u001B[0;36mPpDataTable.create_index_on_column\u001B[0;34m(self, column_name)\u001B[0m\n\u001B[1;32m    131\u001B[0m \u001B[38;5;28;01mtry\u001B[39;00m:\n\u001B[1;32m    132\u001B[0m     \u001B[38;5;28mself\u001B[39m\u001B[38;5;241m.\u001B[39m_conn\u001B[38;5;241m.\u001B[39mcursor()\u001B[38;5;241m.\u001B[39mexecute(\u001B[38;5;124mf\u001B[39m\u001B[38;5;124m\"\"\"\u001B[39m\n\u001B[1;32m    133\u001B[0m \u001B[38;5;124m        DROP INDEX IF EXISTS `\u001B[39m\u001B[38;5;132;01m{\u001B[39;00mindex_column_name\u001B[38;5;132;01m}\u001B[39;00m\u001B[38;5;124m` ON `pp_data`\u001B[39m\n\u001B[1;32m    134\u001B[0m \u001B[38;5;124m    \u001B[39m\u001B[38;5;124m\"\"\"\u001B[39m)\n\u001B[0;32m--> 135\u001B[0m     \u001B[38;5;28;43mself\u001B[39;49m\u001B[38;5;241;43m.\u001B[39;49m\u001B[43m_conn\u001B[49m\u001B[38;5;241;43m.\u001B[39;49m\u001B[43mcursor\u001B[49m\u001B[43m(\u001B[49m\u001B[43m)\u001B[49m\u001B[38;5;241;43m.\u001B[39;49m\u001B[43mexecute\u001B[49m\u001B[43m(\u001B[49m\u001B[38;5;124;43mf\u001B[39;49m\u001B[38;5;124;43m\"\"\"\u001B[39;49m\n\u001B[1;32m    136\u001B[0m \u001B[38;5;124;43m        CREATE INDEX IF NOT EXISTS `\u001B[39;49m\u001B[38;5;132;43;01m{\u001B[39;49;00m\u001B[43mindex_column_name\u001B[49m\u001B[38;5;132;43;01m}\u001B[39;49;00m\u001B[38;5;124;43m` USING HASH\u001B[39;49m\n\u001B[1;32m    137\u001B[0m \u001B[38;5;124;43m        ON `pp_data` (\u001B[39;49m\u001B[38;5;132;43;01m{\u001B[39;49;00m\u001B[43mcolumn_name\u001B[49m\u001B[38;5;132;43;01m}\u001B[39;49;00m\u001B[38;5;124;43m)\u001B[39;49m\n\u001B[1;32m    138\u001B[0m \u001B[38;5;124;43m    \u001B[39;49m\u001B[38;5;124;43m\"\"\"\u001B[39;49m\u001B[43m)\u001B[49m\n\u001B[1;32m    139\u001B[0m \u001B[38;5;28;01mexcept\u001B[39;00m \u001B[38;5;167;01mException\u001B[39;00m \u001B[38;5;28;01mas\u001B[39;00m e:\n\u001B[1;32m    140\u001B[0m     \u001B[38;5;28mprint\u001B[39m(\u001B[38;5;124m\"\u001B[39m\u001B[38;5;124mCould not create index from column \u001B[39m\u001B[38;5;132;01m{}\u001B[39;00m\u001B[38;5;124m on table pp_data - \u001B[39m\u001B[38;5;132;01m{}\u001B[39;00m\u001B[38;5;124m\"\u001B[39m\u001B[38;5;241m.\u001B[39mformat(column_name, e))\n",
      "File \u001B[0;32m~/anaconda3/envs/advds/lib/python3.12/site-packages/pymysql/cursors.py:153\u001B[0m, in \u001B[0;36mCursor.execute\u001B[0;34m(self, query, args)\u001B[0m\n\u001B[1;32m    149\u001B[0m     \u001B[38;5;28;01mpass\u001B[39;00m\n\u001B[1;32m    151\u001B[0m query \u001B[38;5;241m=\u001B[39m \u001B[38;5;28mself\u001B[39m\u001B[38;5;241m.\u001B[39mmogrify(query, args)\n\u001B[0;32m--> 153\u001B[0m result \u001B[38;5;241m=\u001B[39m \u001B[38;5;28;43mself\u001B[39;49m\u001B[38;5;241;43m.\u001B[39;49m\u001B[43m_query\u001B[49m\u001B[43m(\u001B[49m\u001B[43mquery\u001B[49m\u001B[43m)\u001B[49m\n\u001B[1;32m    154\u001B[0m \u001B[38;5;28mself\u001B[39m\u001B[38;5;241m.\u001B[39m_executed \u001B[38;5;241m=\u001B[39m query\n\u001B[1;32m    155\u001B[0m \u001B[38;5;28;01mreturn\u001B[39;00m result\n",
      "File \u001B[0;32m~/anaconda3/envs/advds/lib/python3.12/site-packages/pymysql/cursors.py:322\u001B[0m, in \u001B[0;36mCursor._query\u001B[0;34m(self, q)\u001B[0m\n\u001B[1;32m    320\u001B[0m conn \u001B[38;5;241m=\u001B[39m \u001B[38;5;28mself\u001B[39m\u001B[38;5;241m.\u001B[39m_get_db()\n\u001B[1;32m    321\u001B[0m \u001B[38;5;28mself\u001B[39m\u001B[38;5;241m.\u001B[39m_clear_result()\n\u001B[0;32m--> 322\u001B[0m \u001B[43mconn\u001B[49m\u001B[38;5;241;43m.\u001B[39;49m\u001B[43mquery\u001B[49m\u001B[43m(\u001B[49m\u001B[43mq\u001B[49m\u001B[43m)\u001B[49m\n\u001B[1;32m    323\u001B[0m \u001B[38;5;28mself\u001B[39m\u001B[38;5;241m.\u001B[39m_do_get_result()\n\u001B[1;32m    324\u001B[0m \u001B[38;5;28;01mreturn\u001B[39;00m \u001B[38;5;28mself\u001B[39m\u001B[38;5;241m.\u001B[39mrowcount\n",
      "File \u001B[0;32m~/anaconda3/envs/advds/lib/python3.12/site-packages/pymysql/connections.py:558\u001B[0m, in \u001B[0;36mConnection.query\u001B[0;34m(self, sql, unbuffered)\u001B[0m\n\u001B[1;32m    556\u001B[0m     sql \u001B[38;5;241m=\u001B[39m sql\u001B[38;5;241m.\u001B[39mencode(\u001B[38;5;28mself\u001B[39m\u001B[38;5;241m.\u001B[39mencoding, \u001B[38;5;124m\"\u001B[39m\u001B[38;5;124msurrogateescape\u001B[39m\u001B[38;5;124m\"\u001B[39m)\n\u001B[1;32m    557\u001B[0m \u001B[38;5;28mself\u001B[39m\u001B[38;5;241m.\u001B[39m_execute_command(COMMAND\u001B[38;5;241m.\u001B[39mCOM_QUERY, sql)\n\u001B[0;32m--> 558\u001B[0m \u001B[38;5;28mself\u001B[39m\u001B[38;5;241m.\u001B[39m_affected_rows \u001B[38;5;241m=\u001B[39m \u001B[38;5;28;43mself\u001B[39;49m\u001B[38;5;241;43m.\u001B[39;49m\u001B[43m_read_query_result\u001B[49m\u001B[43m(\u001B[49m\u001B[43munbuffered\u001B[49m\u001B[38;5;241;43m=\u001B[39;49m\u001B[43munbuffered\u001B[49m\u001B[43m)\u001B[49m\n\u001B[1;32m    559\u001B[0m \u001B[38;5;28;01mreturn\u001B[39;00m \u001B[38;5;28mself\u001B[39m\u001B[38;5;241m.\u001B[39m_affected_rows\n",
      "File \u001B[0;32m~/anaconda3/envs/advds/lib/python3.12/site-packages/pymysql/connections.py:822\u001B[0m, in \u001B[0;36mConnection._read_query_result\u001B[0;34m(self, unbuffered)\u001B[0m\n\u001B[1;32m    820\u001B[0m \u001B[38;5;28;01melse\u001B[39;00m:\n\u001B[1;32m    821\u001B[0m     result \u001B[38;5;241m=\u001B[39m MySQLResult(\u001B[38;5;28mself\u001B[39m)\n\u001B[0;32m--> 822\u001B[0m     \u001B[43mresult\u001B[49m\u001B[38;5;241;43m.\u001B[39;49m\u001B[43mread\u001B[49m\u001B[43m(\u001B[49m\u001B[43m)\u001B[49m\n\u001B[1;32m    823\u001B[0m \u001B[38;5;28mself\u001B[39m\u001B[38;5;241m.\u001B[39m_result \u001B[38;5;241m=\u001B[39m result\n\u001B[1;32m    824\u001B[0m \u001B[38;5;28;01mif\u001B[39;00m result\u001B[38;5;241m.\u001B[39mserver_status \u001B[38;5;129;01mis\u001B[39;00m \u001B[38;5;129;01mnot\u001B[39;00m \u001B[38;5;28;01mNone\u001B[39;00m:\n",
      "File \u001B[0;32m~/anaconda3/envs/advds/lib/python3.12/site-packages/pymysql/connections.py:1200\u001B[0m, in \u001B[0;36mMySQLResult.read\u001B[0;34m(self)\u001B[0m\n\u001B[1;32m   1198\u001B[0m \u001B[38;5;28;01mdef\u001B[39;00m \u001B[38;5;21mread\u001B[39m(\u001B[38;5;28mself\u001B[39m):\n\u001B[1;32m   1199\u001B[0m     \u001B[38;5;28;01mtry\u001B[39;00m:\n\u001B[0;32m-> 1200\u001B[0m         first_packet \u001B[38;5;241m=\u001B[39m \u001B[38;5;28;43mself\u001B[39;49m\u001B[38;5;241;43m.\u001B[39;49m\u001B[43mconnection\u001B[49m\u001B[38;5;241;43m.\u001B[39;49m\u001B[43m_read_packet\u001B[49m\u001B[43m(\u001B[49m\u001B[43m)\u001B[49m\n\u001B[1;32m   1202\u001B[0m         \u001B[38;5;28;01mif\u001B[39;00m first_packet\u001B[38;5;241m.\u001B[39mis_ok_packet():\n\u001B[1;32m   1203\u001B[0m             \u001B[38;5;28mself\u001B[39m\u001B[38;5;241m.\u001B[39m_read_ok_packet(first_packet)\n",
      "File \u001B[0;32m~/anaconda3/envs/advds/lib/python3.12/site-packages/pymysql/connections.py:739\u001B[0m, in \u001B[0;36mConnection._read_packet\u001B[0;34m(self, packet_type)\u001B[0m\n\u001B[1;32m    737\u001B[0m buff \u001B[38;5;241m=\u001B[39m \u001B[38;5;28mbytearray\u001B[39m()\n\u001B[1;32m    738\u001B[0m \u001B[38;5;28;01mwhile\u001B[39;00m \u001B[38;5;28;01mTrue\u001B[39;00m:\n\u001B[0;32m--> 739\u001B[0m     packet_header \u001B[38;5;241m=\u001B[39m \u001B[38;5;28;43mself\u001B[39;49m\u001B[38;5;241;43m.\u001B[39;49m\u001B[43m_read_bytes\u001B[49m\u001B[43m(\u001B[49m\u001B[38;5;241;43m4\u001B[39;49m\u001B[43m)\u001B[49m\n\u001B[1;32m    740\u001B[0m     \u001B[38;5;66;03m# if DEBUG: dump_packet(packet_header)\u001B[39;00m\n\u001B[1;32m    742\u001B[0m     btrl, btrh, packet_number \u001B[38;5;241m=\u001B[39m struct\u001B[38;5;241m.\u001B[39munpack(\u001B[38;5;124m\"\u001B[39m\u001B[38;5;124m<HBB\u001B[39m\u001B[38;5;124m\"\u001B[39m, packet_header)\n",
      "File \u001B[0;32m~/anaconda3/envs/advds/lib/python3.12/site-packages/pymysql/connections.py:779\u001B[0m, in \u001B[0;36mConnection._read_bytes\u001B[0;34m(self, num_bytes)\u001B[0m\n\u001B[1;32m    777\u001B[0m \u001B[38;5;28;01mwhile\u001B[39;00m \u001B[38;5;28;01mTrue\u001B[39;00m:\n\u001B[1;32m    778\u001B[0m     \u001B[38;5;28;01mtry\u001B[39;00m:\n\u001B[0;32m--> 779\u001B[0m         data \u001B[38;5;241m=\u001B[39m \u001B[38;5;28;43mself\u001B[39;49m\u001B[38;5;241;43m.\u001B[39;49m\u001B[43m_rfile\u001B[49m\u001B[38;5;241;43m.\u001B[39;49m\u001B[43mread\u001B[49m\u001B[43m(\u001B[49m\u001B[43mnum_bytes\u001B[49m\u001B[43m)\u001B[49m\n\u001B[1;32m    780\u001B[0m         \u001B[38;5;28;01mbreak\u001B[39;00m\n\u001B[1;32m    781\u001B[0m     \u001B[38;5;28;01mexcept\u001B[39;00m \u001B[38;5;167;01mOSError\u001B[39;00m \u001B[38;5;28;01mas\u001B[39;00m e:\n",
      "File \u001B[0;32m~/anaconda3/envs/advds/lib/python3.12/socket.py:707\u001B[0m, in \u001B[0;36mSocketIO.readinto\u001B[0;34m(self, b)\u001B[0m\n\u001B[1;32m    705\u001B[0m \u001B[38;5;28;01mwhile\u001B[39;00m \u001B[38;5;28;01mTrue\u001B[39;00m:\n\u001B[1;32m    706\u001B[0m     \u001B[38;5;28;01mtry\u001B[39;00m:\n\u001B[0;32m--> 707\u001B[0m         \u001B[38;5;28;01mreturn\u001B[39;00m \u001B[38;5;28;43mself\u001B[39;49m\u001B[38;5;241;43m.\u001B[39;49m\u001B[43m_sock\u001B[49m\u001B[38;5;241;43m.\u001B[39;49m\u001B[43mrecv_into\u001B[49m\u001B[43m(\u001B[49m\u001B[43mb\u001B[49m\u001B[43m)\u001B[49m\n\u001B[1;32m    708\u001B[0m     \u001B[38;5;28;01mexcept\u001B[39;00m timeout:\n\u001B[1;32m    709\u001B[0m         \u001B[38;5;28mself\u001B[39m\u001B[38;5;241m.\u001B[39m_timeout_occurred \u001B[38;5;241m=\u001B[39m \u001B[38;5;28;01mTrue\u001B[39;00m\n",
      "\u001B[0;31mKeyboardInterrupt\u001B[0m: "
     ]
    }
   ],
   "source": [
    "# Write the code you used to join the tables, or the code you used to join on the fly.\n",
    "pp_data_table.create_index_on_column(\"postcode\")\n",
    "postcode_data_table.create_index_on_column(\"postcode\")"
   ]
  },
  {
   "cell_type": "code",
   "execution_count": 96,
   "outputs": [
    {
     "name": "stdout",
     "output_type": "stream",
     "text": [
      "Could not create `prices_coordinates_data` table on the database server - (1060, \"Duplicate column name 'latitude'\")\n",
      "Could not populate `prices_coordinates_data` table from joining pp_data and postcode_data - (1146, \"Table 'property_prices.prices_coordinates_data' doesn't exist\")\n"
     ]
    }
   ],
   "source": [
    "property_prices_data_table = PricesCoordinatesDataTable(property_prices_db)"
   ],
   "metadata": {
    "collapsed": false,
    "ExecuteTime": {
     "end_time": "2023-11-27T01:28:55.031890Z",
     "start_time": "2023-11-27T01:28:51.408585Z"
    }
   },
   "id": "a881b37a13f4a089"
  },
  {
   "cell_type": "markdown",
   "id": "df36e5d1",
   "metadata": {
    "id": "df36e5d1"
   },
   "source": [
    "## Question 2. Accessing OpenStreetMap and Assessing the Available Features\n",
    "\n",
    "In question 3 you will be given the task of constructing a prediction system for property price levels at a given location. We expect that knowledge of the local region around the property should be helpful in making those price predictions. To evaluate this we will now look at [OpenStreetMap](https://www.openstreetmap.org) as a data source.\n",
    "\n",
    "The tasks below will guide you in accessing and assessing the OpenStreetMap data. The code you write will eventually be assimilated in your python module, but documentation of what you've included and why should remain in the notebook below.\n",
    "\n",
    "Accessing OpenStreetMap through its API can be done using the python library `osmx`. Using what you have learned about the `osmx` interface in the lectures, write general code for downloading points of interest and other relevant information that you believe may be useful for predicting house prices. Remembering the perspectives we've taken on *data science as debugging*, the remarks we've made when discussing *the data crisis* of the importance of reusability in data analysis, and the techniques we've explored in the labsessions for visualising features and exploring their correlation use the notebook to document your assessment of the OpenStreetMap data as a potential source of data.\n",
    "\n",
    "The knowledge you need to do a first pass through this question will have been taught by end of lab session three (16th November 2021). You will likely want to review your answer as part of *refactoring* your code and analysis pipeline shortly before hand in.\n",
    "\n",
    "You should write reusable code that allows you to explore the characteristics of different points of interest. Looking ahead to question 3 you'll want to incorporate these points of interest in your prediction code.\n",
    "\n",
    "*5 marks*\n"
   ]
  },
  {
   "cell_type": "code",
   "execution_count": null,
   "id": "042a2863",
   "metadata": {
    "id": "042a2863"
   },
   "outputs": [],
   "source": [
    "# Use this cell and cells below for summarising your analysis and documenting your decision making.\n",
    "\n"
   ]
  },
  {
   "cell_type": "markdown",
   "id": "09a0e365",
   "metadata": {
    "id": "09a0e365"
   },
   "source": [
    "## Question 3. Addressing a Property Price Prediction Question\n",
    "\n",
    "For your final tick, we will be asking you to make house price predictions for a given location, date and property type in the UK. You will provide a function that takes input a latitude and longitude as well as the `property_type` (either type\" of property (either `F` - flat, `S` - semidetached, `D` - detached, `T` - terraced or `O` other). Create this function in the `address.py` file, for example in the form,\n",
    "\n",
    "```\n",
    "def predict_price(latitude, longitude, date, property_type):\n",
    "    \"\"\"Price prediction for UK housing.\"\"\"\n",
    "    pass\n",
    "```\n",
    "\n",
    "We suggest that you use the following approach when building your prediction.\n",
    "\n",
    "1. Select a bounding box around the housing location in latitude and longitude.\n",
    "2. Select a data range around the prediction date.\n",
    "3. Use the data ecosystem you have build above to build a training set from the relevant time period and location in the UK. Include appropriate features from OSM to improve the prediction.\n",
    "4. Train a linear model on the data set you have created.\n",
    "5. Validate the quality of the model.\n",
    "6. Provide a prediction of the price from the model, warning appropriately if your validation indicates the quality of the model is poor.\n",
    "\n",
    "Please note that the quality of predictions is not the main focus of the assignment - we expect to see models that output reasonable predictions and have positive R^2's, but you should not spend too much time on increasing the model's accuracy.\n",
    "\n",
    "The knowledge you need to do a first pass through this question will have been taught by end of lab session four (7th November 2023). You will likely want to review your answer as part of *refactoring* your code shortly before hand in.\n",
    "\n"
   ]
  },
  {
   "cell_type": "code",
   "execution_count": null,
   "id": "Si3K0A2zM7pa",
   "metadata": {
    "id": "Si3K0A2zM7pa"
   },
   "outputs": [],
   "source": []
  },
  {
   "cell_type": "markdown",
   "id": "eEDpLiW0Zr_L",
   "metadata": {
    "id": "eEDpLiW0Zr_L"
   },
   "source": [
    "## Large Language Models\n",
    "\n",
    "If you used LLMs to generate or fix code in this assignment (recommended), briefly summarise the process and prompts you used. What do you think of the integration of LLMs in the data science pipeline?"
   ]
  },
  {
   "cell_type": "markdown",
   "id": "osdBm1BNaHL1",
   "metadata": {
    "id": "osdBm1BNaHL1"
   },
   "source": [
    "```GIVE YOUR WRITTEN ANSWER HERE```"
   ]
  },
  {
   "cell_type": "markdown",
   "id": "DJDQPmkLldvp",
   "metadata": {
    "id": "DJDQPmkLldvp"
   },
   "source": [
    "### FAQs\n",
    "\n",
    "- Why is my connection to the AWS server intermittent?\n",
    "\n",
    "If you are using Google Colab, online notebooks may throttle your code or time you out. Local Python code is recommended for tasks for large data management in the database.\n",
    "\n",
    "- Why do SQL queries take a long time?\n",
    "\n",
    "Some queries legitimately take a long time, even when done right. We suggest indexing your tables to speed up queries over your database. You can index tables by different columns depending on the queries you want to perform. For example, indexing the tables by `postcode` could speed up the join in Task D. More information regarding indexing in MariaDB is available [here](https://mariadb.com/kb/en/getting-started-with-indexes/).\n",
    "\n",
    "You may also want to consider creating single or multi-column indices on coordinates, or any other properties you use to select data, if that step is taking a long time.\n",
    "\n",
    "If your new queries seem stuck, try running `SHOW FULL PROCESSLIST`, and `KILL` any stuck processes.\n",
    "\n",
    "- Why are table populating processes taking so long?\n",
    "\n",
    "Again populating the database can take long. However, be careful if you are indexing the tables. You should populate data before indexing. Insert operations are impacted by indexes as they are updated with each new row inserted into the table.\n",
    "\n",
    "- Some other questions are answered in [this reddit forum](https://www.reddit.com/r/CST_ADS/) or [this doc](https://docs.google.com/document/d/1GfDROyUW8HVs2eyxmJzKrYGRdVyUiVXzPcDfwOO8wX0/edit?usp=sharing). Feel free to also ask about anything that comes up."
   ]
  }
 ],
 "metadata": {
  "colab": {
   "provenance": []
  },
  "kernelspec": {
   "display_name": "Python 3 (ipykernel)",
   "language": "python",
   "name": "python3"
  },
  "language_info": {
   "codemirror_mode": {
    "name": "ipython",
    "version": 3
   },
   "file_extension": ".py",
   "mimetype": "text/x-python",
   "name": "python",
   "nbconvert_exporter": "python",
   "pygments_lexer": "ipython3",
   "version": "3.12.0"
  }
 },
 "nbformat": 4,
 "nbformat_minor": 5
}
